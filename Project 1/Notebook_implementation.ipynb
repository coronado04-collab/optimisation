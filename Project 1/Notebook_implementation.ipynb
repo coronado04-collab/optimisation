{
 "cells": [
  {
   "cell_type": "markdown",
   "metadata": {},
   "source": [
    "Mario Coronado (100496637) + Carlos Casanova (100472714)\n",
    "# HOMEWORK 1"
   ]
  },
  {
   "cell_type": "markdown",
   "metadata": {},
   "source": [
    "## Problem Description \n",
    "Multi-period production planning and distribution for a pharmaceutical company. \n",
    "\n",
    "The company needs to optimize the production, storage, and distribution of **four products** (Painkillers, Antibiotics, Vaccines, and Antivirals) through a supply chain consisting of **three laboratories** (Leganes, Zaragoza, Malaga) and **four pharmacies** (Madrid, Barcelona, Sevilla and Valencia) over the period of one year divided in **four quarters** (Q1, Q2, Q3, Q4).\n",
    "\n",
    "The **objective** is to minimize the total cost, which will be divided into:\n",
    "- Production Cost. It is the cost related to the production of the different products in each laboratory.\n",
    "- Storage Cost. Cost of storing products over a quarter in every different pharmacy. \n",
    "- Transportation. Cost related to the transportation between laboratories and pharmacies for each quarter.\n",
    "\n",
    "Moreover, we need to take into account a series of **constraints** to make the problem more realistic: laboratories have limited production capacities, while the pharmacies have constrained storage capacities. Demand for each product must be met at every pharmacy in every quarter. The inventory levels are defined as the quantity of products left at the end of each quarter, which have to take into account local demand.\n",
    "\n",
    "Taking into account all these considerations the challenge becomes determining: the best quantities of production at each laboratory, the transportation quantities between laboratories and pharmacies, and the inventory levels maintained at pharmacies. All these needs to be computed while also taking into account the current time period, which will finally result into a total of **304 variables**. \n",
    "\n",
    "At every moment a **Data Creation Logic** has been followed to obtain the csv files containing the problem data:\n",
    "- Transportation costs vary depending on the distance between laboratories and pharmacies (i.e., the cost of transport between Leganes and Madrid is smaller than Leganes to Barcelona, for example)\n",
    "- Pharmacies represent endpoints with limited storage, allowing us to implement logistic constraints. Bigger cities have more storage capacity.\n",
    "- Laboratories can produce and supply different pharmacies but are limited by capacity.<br></br>\n",
    "\n",
    "The main critical question that comes to our mind with this optimization model aims is:\n",
    "\n",
    "**How should the company allocate production, inventory, and transportation resources over time to minimize costs while meeting demand and respecting capacity constraints?**\n"
   ]
  },
  {
   "cell_type": "markdown",
   "metadata": {},
   "source": [
    "--------------------"
   ]
  },
  {
   "cell_type": "code",
   "execution_count": null,
   "metadata": {},
   "outputs": [],
   "source": [
    "# IMPORTS \n",
    "import numpy as np\n",
    "import pandas as pd\n",
    "from pyomo.environ import *\n",
    "from pyomo.opt import SolverFactory\n",
    "from io import StringIO # for preview of model.display()"
   ]
  },
  {
   "cell_type": "markdown",
   "metadata": {},
   "source": [
    "--------------------"
   ]
  },
  {
   "cell_type": "markdown",
   "metadata": {},
   "source": [
    "## Definition of Sets\n",
    "- **I**: Set of **Products**: 'Painkiller', 'Antibiotic', 'Vaccine', 'Vitamin', 'Antiviral'\n",
    "\n",
    "- **J**: Set of production **Laboratories**: 'Leganes_Plant', 'Zaragoza_Plant', 'Malaga_Plant'\n",
    "\n",
    "- **K**: Set of **Pharmacies**: 'Madrid_F', 'Barcelona_F', 'Sevilla_F', 'Valencia_F'\n",
    "\n",
    "- **T**: Set of time periods: **Quarters** of a year"
   ]
  },
  {
   "cell_type": "code",
   "execution_count": 2,
   "metadata": {},
   "outputs": [],
   "source": [
    "# Create a Pyomo model\n",
    "model = ConcreteModel(doc = 'Multi-period Production / Distribution Planning for a Pharmaceutical Company')\n",
    "\n",
    "model.I = Set(initialize=['Painkiller', 'Antibiotic', 'Vaccine', 'Antiviral'], doc = 'Products')\n",
    "\n",
    "model.J = Set(initialize=['Leganes_Plant', 'Zaragoza_Plant', 'Malaga_Plant'], doc = 'Laboratories')\n",
    "\n",
    "model.K = Set(initialize=['Madrid_F', 'Barcelona_F', 'Sevilla_F', 'Valencia_F'], doc = 'Pharmacies')\n",
    "\n",
    "model.T = Set(initialize=['Q1', 'Q2', 'Q3', 'Q4'], doc = 'Quarters')"
   ]
  },
  {
   "cell_type": "markdown",
   "metadata": {},
   "source": [
    "--------------------"
   ]
  },
  {
   "cell_type": "markdown",
   "metadata": {},
   "source": [
    "## Definition of Parameters\n",
    "\n",
    "Parameter data is stored in its respective CSV to maintain order, coherence, and consistency, so we extract the data from there."
   ]
  },
  {
   "cell_type": "markdown",
   "metadata": {},
   "source": [
    "- **Production Cost** per gram of each Product in each Laboratory.\n",
    "\n",
    "    $c_{i,j}$"
   ]
  },
  {
   "cell_type": "code",
   "execution_count": 3,
   "metadata": {},
   "outputs": [],
   "source": [
    "# Load CSV data\n",
    "production_cost_df = pd.read_csv('production_costs.csv')\n",
    "\n",
    "# Convert DataFrame to dictionary with (product, laboratory) as keys\n",
    "production_cost_dict = production_cost_df.set_index(['product','laboratory'])['production_cost'].to_dict()\n",
    "\n",
    "# Within NonNegativeReals\n",
    "model.c = Param(model.I, model.J, initialize=production_cost_dict, within=NonNegativeReals, doc = 'Production Cost')"
   ]
  },
  {
   "cell_type": "code",
   "execution_count": 4,
   "metadata": {},
   "outputs": [
    {
     "data": {
      "text/html": [
       "<div>\n",
       "<style scoped>\n",
       "    .dataframe tbody tr th:only-of-type {\n",
       "        vertical-align: middle;\n",
       "    }\n",
       "\n",
       "    .dataframe tbody tr th {\n",
       "        vertical-align: top;\n",
       "    }\n",
       "\n",
       "    .dataframe thead th {\n",
       "        text-align: right;\n",
       "    }\n",
       "</style>\n",
       "<table border=\"1\" class=\"dataframe\">\n",
       "  <thead>\n",
       "    <tr style=\"text-align: right;\">\n",
       "      <th></th>\n",
       "      <th>product</th>\n",
       "      <th>laboratory</th>\n",
       "      <th>production_cost</th>\n",
       "    </tr>\n",
       "  </thead>\n",
       "  <tbody>\n",
       "    <tr>\n",
       "      <th>0</th>\n",
       "      <td>Painkiller</td>\n",
       "      <td>Leganes_Plant</td>\n",
       "      <td>1.046</td>\n",
       "    </tr>\n",
       "    <tr>\n",
       "      <th>1</th>\n",
       "      <td>Painkiller</td>\n",
       "      <td>Zaragoza_Plant</td>\n",
       "      <td>3.860</td>\n",
       "    </tr>\n",
       "    <tr>\n",
       "      <th>2</th>\n",
       "      <td>Painkiller</td>\n",
       "      <td>Malaga_Plant</td>\n",
       "      <td>1.124</td>\n",
       "    </tr>\n",
       "    <tr>\n",
       "      <th>3</th>\n",
       "      <td>Antibiotic</td>\n",
       "      <td>Leganes_Plant</td>\n",
       "      <td>3.904</td>\n",
       "    </tr>\n",
       "    <tr>\n",
       "      <th>4</th>\n",
       "      <td>Antibiotic</td>\n",
       "      <td>Zaragoza_Plant</td>\n",
       "      <td>3.596</td>\n",
       "    </tr>\n",
       "  </tbody>\n",
       "</table>\n",
       "</div>"
      ],
      "text/plain": [
       "      product      laboratory  production_cost\n",
       "0  Painkiller   Leganes_Plant            1.046\n",
       "1  Painkiller  Zaragoza_Plant            3.860\n",
       "2  Painkiller    Malaga_Plant            1.124\n",
       "3  Antibiotic   Leganes_Plant            3.904\n",
       "4  Antibiotic  Zaragoza_Plant            3.596"
      ]
     },
     "execution_count": 4,
     "metadata": {},
     "output_type": "execute_result"
    }
   ],
   "source": [
    "production_cost_df.head()"
   ]
  },
  {
   "cell_type": "markdown",
   "metadata": {},
   "source": [
    "- **Production Capacity** at each Laboratory.\n",
    "\n",
    "    $productionCapacity_{j}$"
   ]
  },
  {
   "cell_type": "code",
   "execution_count": 5,
   "metadata": {},
   "outputs": [],
   "source": [
    "# Load CSV data\n",
    "production_capcity_df= pd.read_csv('production_capacity.csv')\n",
    "\n",
    "# Convert DataFrame to dictionary with (Laboratoy) as keys\n",
    "production_capacity_dict = production_capcity_df.set_index(['Laboratory'])['production_capacity'].to_dict()\n",
    "\n",
    "# Within NonNegativeReals\n",
    "model.productionCapacity = Param(model.J, initialize=production_capacity_dict, within=NonNegativeReals, doc = 'Production Capacity')\n"
   ]
  },
  {
   "cell_type": "code",
   "execution_count": 6,
   "metadata": {},
   "outputs": [
    {
     "data": {
      "text/html": [
       "<div>\n",
       "<style scoped>\n",
       "    .dataframe tbody tr th:only-of-type {\n",
       "        vertical-align: middle;\n",
       "    }\n",
       "\n",
       "    .dataframe tbody tr th {\n",
       "        vertical-align: top;\n",
       "    }\n",
       "\n",
       "    .dataframe thead th {\n",
       "        text-align: right;\n",
       "    }\n",
       "</style>\n",
       "<table border=\"1\" class=\"dataframe\">\n",
       "  <thead>\n",
       "    <tr style=\"text-align: right;\">\n",
       "      <th></th>\n",
       "      <th>Laboratory</th>\n",
       "      <th>production_capacity</th>\n",
       "    </tr>\n",
       "  </thead>\n",
       "  <tbody>\n",
       "    <tr>\n",
       "      <th>0</th>\n",
       "      <td>Leganes_Plant</td>\n",
       "      <td>600</td>\n",
       "    </tr>\n",
       "    <tr>\n",
       "      <th>1</th>\n",
       "      <td>Zaragoza_Plant</td>\n",
       "      <td>800</td>\n",
       "    </tr>\n",
       "    <tr>\n",
       "      <th>2</th>\n",
       "      <td>Malaga_Plant</td>\n",
       "      <td>1000</td>\n",
       "    </tr>\n",
       "  </tbody>\n",
       "</table>\n",
       "</div>"
      ],
      "text/plain": [
       "       Laboratory  production_capacity\n",
       "0   Leganes_Plant                  600\n",
       "1  Zaragoza_Plant                  800\n",
       "2    Malaga_Plant                 1000"
      ]
     },
     "execution_count": 6,
     "metadata": {},
     "output_type": "execute_result"
    }
   ],
   "source": [
    "production_capcity_df.head()"
   ]
  },
  {
   "cell_type": "markdown",
   "metadata": {},
   "source": [
    "- **Transportation Cost** for each gram of product from a Laboratory to a Pharmacy.\n",
    "\n",
    "    $t_{i,j,k}$"
   ]
  },
  {
   "cell_type": "code",
   "execution_count": 7,
   "metadata": {},
   "outputs": [],
   "source": [
    "# Load CSV data\n",
    "transport_cost_data = pd.read_csv('transport_cost.csv')\n",
    "\n",
    "# Convert DataFrame to dictionary with (product, facility, pharmacy) as keys\n",
    "transport_cost_dict = transport_cost_data.set_index(['product','laboratory','pharmacy'])['transport_cost'].to_dict()\n",
    "\n",
    "# Within NonNegativeReals\n",
    "model.t = Param(model.I, model.J, model.K, initialize=transport_cost_dict, within=NonNegativeReals, doc = 'Transport Cost')\n"
   ]
  },
  {
   "cell_type": "code",
   "execution_count": 8,
   "metadata": {},
   "outputs": [
    {
     "data": {
      "text/html": [
       "<div>\n",
       "<style scoped>\n",
       "    .dataframe tbody tr th:only-of-type {\n",
       "        vertical-align: middle;\n",
       "    }\n",
       "\n",
       "    .dataframe tbody tr th {\n",
       "        vertical-align: top;\n",
       "    }\n",
       "\n",
       "    .dataframe thead th {\n",
       "        text-align: right;\n",
       "    }\n",
       "</style>\n",
       "<table border=\"1\" class=\"dataframe\">\n",
       "  <thead>\n",
       "    <tr style=\"text-align: right;\">\n",
       "      <th></th>\n",
       "      <th>product</th>\n",
       "      <th>laboratory</th>\n",
       "      <th>pharmacy</th>\n",
       "      <th>transport_cost</th>\n",
       "    </tr>\n",
       "  </thead>\n",
       "  <tbody>\n",
       "    <tr>\n",
       "      <th>0</th>\n",
       "      <td>Painkiller</td>\n",
       "      <td>Leganes_Plant</td>\n",
       "      <td>Madrid_F</td>\n",
       "      <td>0.9</td>\n",
       "    </tr>\n",
       "    <tr>\n",
       "      <th>1</th>\n",
       "      <td>Painkiller</td>\n",
       "      <td>Leganes_Plant</td>\n",
       "      <td>Barcelona_F</td>\n",
       "      <td>2.0</td>\n",
       "    </tr>\n",
       "    <tr>\n",
       "      <th>2</th>\n",
       "      <td>Painkiller</td>\n",
       "      <td>Leganes_Plant</td>\n",
       "      <td>Sevilla_F</td>\n",
       "      <td>2.1</td>\n",
       "    </tr>\n",
       "    <tr>\n",
       "      <th>3</th>\n",
       "      <td>Painkiller</td>\n",
       "      <td>Leganes_Plant</td>\n",
       "      <td>Valencia_F</td>\n",
       "      <td>1.8</td>\n",
       "    </tr>\n",
       "    <tr>\n",
       "      <th>4</th>\n",
       "      <td>Painkiller</td>\n",
       "      <td>Zaragoza_Plant</td>\n",
       "      <td>Madrid_F</td>\n",
       "      <td>2.0</td>\n",
       "    </tr>\n",
       "  </tbody>\n",
       "</table>\n",
       "</div>"
      ],
      "text/plain": [
       "      product      laboratory     pharmacy  transport_cost\n",
       "0  Painkiller   Leganes_Plant     Madrid_F             0.9\n",
       "1  Painkiller   Leganes_Plant  Barcelona_F             2.0\n",
       "2  Painkiller   Leganes_Plant    Sevilla_F             2.1\n",
       "3  Painkiller   Leganes_Plant   Valencia_F             1.8\n",
       "4  Painkiller  Zaragoza_Plant     Madrid_F             2.0"
      ]
     },
     "execution_count": 8,
     "metadata": {},
     "output_type": "execute_result"
    }
   ],
   "source": [
    "transport_cost_data.head()"
   ]
  },
  {
   "cell_type": "markdown",
   "metadata": {},
   "source": [
    "- **Demand** at each Pharmacy for each product for each quarter of the year.\n",
    "\n",
    "    $demand_{i,k,t}$"
   ]
  },
  {
   "cell_type": "code",
   "execution_count": 9,
   "metadata": {},
   "outputs": [],
   "source": [
    "# Load CSV data\n",
    "demand_data = pd.read_csv('demand.csv')\n",
    "\n",
    "# Convert DataFrame to dictionary with (product, pharmacy, quarter) as keys\n",
    "demand_dict = demand_data.set_index(['product', 'pharmacy', 'quarter'])['demand'].to_dict()\n",
    "\n",
    "# Within NonNegativeReals\n",
    "model.demand = Param(model.I, model.K, model.T, initialize=demand_dict, within=NonNegativeReals, doc = 'Product Demand')"
   ]
  },
  {
   "cell_type": "code",
   "execution_count": 10,
   "metadata": {},
   "outputs": [
    {
     "data": {
      "text/html": [
       "<div>\n",
       "<style scoped>\n",
       "    .dataframe tbody tr th:only-of-type {\n",
       "        vertical-align: middle;\n",
       "    }\n",
       "\n",
       "    .dataframe tbody tr th {\n",
       "        vertical-align: top;\n",
       "    }\n",
       "\n",
       "    .dataframe thead th {\n",
       "        text-align: right;\n",
       "    }\n",
       "</style>\n",
       "<table border=\"1\" class=\"dataframe\">\n",
       "  <thead>\n",
       "    <tr style=\"text-align: right;\">\n",
       "      <th></th>\n",
       "      <th>product</th>\n",
       "      <th>pharmacy</th>\n",
       "      <th>quarter</th>\n",
       "      <th>demand</th>\n",
       "    </tr>\n",
       "  </thead>\n",
       "  <tbody>\n",
       "    <tr>\n",
       "      <th>0</th>\n",
       "      <td>Painkiller</td>\n",
       "      <td>Madrid_F</td>\n",
       "      <td>Q1</td>\n",
       "      <td>131</td>\n",
       "    </tr>\n",
       "    <tr>\n",
       "      <th>1</th>\n",
       "      <td>Painkiller</td>\n",
       "      <td>Madrid_F</td>\n",
       "      <td>Q2</td>\n",
       "      <td>136</td>\n",
       "    </tr>\n",
       "    <tr>\n",
       "      <th>2</th>\n",
       "      <td>Painkiller</td>\n",
       "      <td>Madrid_F</td>\n",
       "      <td>Q3</td>\n",
       "      <td>142</td>\n",
       "    </tr>\n",
       "    <tr>\n",
       "      <th>3</th>\n",
       "      <td>Painkiller</td>\n",
       "      <td>Madrid_F</td>\n",
       "      <td>Q4</td>\n",
       "      <td>102</td>\n",
       "    </tr>\n",
       "    <tr>\n",
       "      <th>4</th>\n",
       "      <td>Painkiller</td>\n",
       "      <td>Barcelona_F</td>\n",
       "      <td>Q1</td>\n",
       "      <td>111</td>\n",
       "    </tr>\n",
       "  </tbody>\n",
       "</table>\n",
       "</div>"
      ],
      "text/plain": [
       "      product     pharmacy quarter  demand\n",
       "0  Painkiller     Madrid_F      Q1     131\n",
       "1  Painkiller     Madrid_F      Q2     136\n",
       "2  Painkiller     Madrid_F      Q3     142\n",
       "3  Painkiller     Madrid_F      Q4     102\n",
       "4  Painkiller  Barcelona_F      Q1     111"
      ]
     },
     "execution_count": 10,
     "metadata": {},
     "output_type": "execute_result"
    }
   ],
   "source": [
    "demand_data.head()"
   ]
  },
  {
   "cell_type": "markdown",
   "metadata": {},
   "source": [
    "- **Storage Cost** per unit of Product in the inventory at each Pharmacy.\n",
    "\n",
    "    $sC_{k}$"
   ]
  },
  {
   "cell_type": "code",
   "execution_count": 11,
   "metadata": {},
   "outputs": [],
   "source": [
    "# Load CSV data\n",
    "storage_cost_data = pd.read_csv('storage_cost.csv')\n",
    "\n",
    "# Convert DataFrame to dictionary with (pharmacy) as keys\n",
    "storage_cost_dict = storage_cost_data.set_index(['pharmacy'])['storage_cost'].to_dict()\n",
    "\n",
    "# Within NonNegativeReals\n",
    "model.sC = Param(model.K, initialize=storage_cost_dict, within=NonNegativeReals, doc = 'Storage Cost')\n"
   ]
  },
  {
   "cell_type": "code",
   "execution_count": 12,
   "metadata": {},
   "outputs": [
    {
     "data": {
      "text/html": [
       "<div>\n",
       "<style scoped>\n",
       "    .dataframe tbody tr th:only-of-type {\n",
       "        vertical-align: middle;\n",
       "    }\n",
       "\n",
       "    .dataframe tbody tr th {\n",
       "        vertical-align: top;\n",
       "    }\n",
       "\n",
       "    .dataframe thead th {\n",
       "        text-align: right;\n",
       "    }\n",
       "</style>\n",
       "<table border=\"1\" class=\"dataframe\">\n",
       "  <thead>\n",
       "    <tr style=\"text-align: right;\">\n",
       "      <th></th>\n",
       "      <th>pharmacy</th>\n",
       "      <th>storage_cost</th>\n",
       "    </tr>\n",
       "  </thead>\n",
       "  <tbody>\n",
       "    <tr>\n",
       "      <th>0</th>\n",
       "      <td>Madrid_F</td>\n",
       "      <td>0.58</td>\n",
       "    </tr>\n",
       "    <tr>\n",
       "      <th>1</th>\n",
       "      <td>Barcelona_F</td>\n",
       "      <td>0.60</td>\n",
       "    </tr>\n",
       "    <tr>\n",
       "      <th>2</th>\n",
       "      <td>Sevilla_F</td>\n",
       "      <td>0.40</td>\n",
       "    </tr>\n",
       "    <tr>\n",
       "      <th>3</th>\n",
       "      <td>Valencia_F</td>\n",
       "      <td>0.50</td>\n",
       "    </tr>\n",
       "  </tbody>\n",
       "</table>\n",
       "</div>"
      ],
      "text/plain": [
       "      pharmacy  storage_cost\n",
       "0     Madrid_F          0.58\n",
       "1  Barcelona_F          0.60\n",
       "2    Sevilla_F          0.40\n",
       "3   Valencia_F          0.50"
      ]
     },
     "execution_count": 12,
     "metadata": {},
     "output_type": "execute_result"
    }
   ],
   "source": [
    "storage_cost_data.head()"
   ]
  },
  {
   "cell_type": "markdown",
   "metadata": {},
   "source": [
    "- **Storage Capacity** at each Pharmacy.\n",
    "\n",
    "    $storageCapacity_{k}$"
   ]
  },
  {
   "cell_type": "code",
   "execution_count": 13,
   "metadata": {},
   "outputs": [],
   "source": [
    "# Load CSV data\n",
    "storage_capacity_data = pd.read_csv('storage_capacity.csv')\n",
    "\n",
    "# Convert DataFrame to dictionary with (pharmacy) as keys\n",
    "storage_capacity_dict = storage_capacity_data.set_index(['pharmacy'])['storage_capacity'].to_dict()\n",
    "\n",
    "# Within NonNegativeReals\n",
    "model.storageCapacity = Param(model.K, initialize=storage_capacity_dict, within=NonNegativeReals, doc = 'Storage Capacity')"
   ]
  },
  {
   "cell_type": "code",
   "execution_count": 14,
   "metadata": {},
   "outputs": [
    {
     "data": {
      "text/html": [
       "<div>\n",
       "<style scoped>\n",
       "    .dataframe tbody tr th:only-of-type {\n",
       "        vertical-align: middle;\n",
       "    }\n",
       "\n",
       "    .dataframe tbody tr th {\n",
       "        vertical-align: top;\n",
       "    }\n",
       "\n",
       "    .dataframe thead th {\n",
       "        text-align: right;\n",
       "    }\n",
       "</style>\n",
       "<table border=\"1\" class=\"dataframe\">\n",
       "  <thead>\n",
       "    <tr style=\"text-align: right;\">\n",
       "      <th></th>\n",
       "      <th>pharmacy</th>\n",
       "      <th>storage_capacity</th>\n",
       "    </tr>\n",
       "  </thead>\n",
       "  <tbody>\n",
       "    <tr>\n",
       "      <th>0</th>\n",
       "      <td>Madrid_F</td>\n",
       "      <td>200</td>\n",
       "    </tr>\n",
       "    <tr>\n",
       "      <th>1</th>\n",
       "      <td>Barcelona_F</td>\n",
       "      <td>100</td>\n",
       "    </tr>\n",
       "    <tr>\n",
       "      <th>2</th>\n",
       "      <td>Sevilla_F</td>\n",
       "      <td>50</td>\n",
       "    </tr>\n",
       "    <tr>\n",
       "      <th>3</th>\n",
       "      <td>Valencia_F</td>\n",
       "      <td>90</td>\n",
       "    </tr>\n",
       "  </tbody>\n",
       "</table>\n",
       "</div>"
      ],
      "text/plain": [
       "      pharmacy  storage_capacity\n",
       "0     Madrid_F               200\n",
       "1  Barcelona_F               100\n",
       "2    Sevilla_F                50\n",
       "3   Valencia_F                90"
      ]
     },
     "execution_count": 14,
     "metadata": {},
     "output_type": "execute_result"
    }
   ],
   "source": [
    "storage_capacity_data.head()"
   ]
  },
  {
   "cell_type": "markdown",
   "metadata": {},
   "source": [
    "--------------------"
   ]
  },
  {
   "cell_type": "markdown",
   "metadata": {},
   "source": [
    "## Decision Variables\n",
    "\n",
    "The amounts are in grams; therefore, we use the Non-Negative Reals for all variables, as they are continuous and cannot be negative."
   ]
  },
  {
   "cell_type": "markdown",
   "metadata": {},
   "source": [
    "- **Production Quantities**: Amount (grams) of each product to be produced at a Laboratory at the start of the quarter.\n",
    "\n",
    "    $x_{ i,j,t}$\n"
   ]
  },
  {
   "cell_type": "code",
   "execution_count": 15,
   "metadata": {},
   "outputs": [],
   "source": [
    "# Within Non-Negative-Reals\n",
    "model.x = Var(model.I, model.J, model.T, within=NonNegativeReals, doc = 'Production Quantities(g)')"
   ]
  },
  {
   "cell_type": "markdown",
   "metadata": {},
   "source": [
    "- **Inventory Levels**: Inventory of each product quantity (grams) at Pharmacy at the end of a quarter.\n",
    "\n",
    "    $y_{ i,k,t}$"
   ]
  },
  {
   "cell_type": "code",
   "execution_count": 16,
   "metadata": {},
   "outputs": [],
   "source": [
    "# Within Non-Negative-Reals\n",
    "model.y = Var(model.I, model.K, model.T, within=NonNegativeReals, doc = 'Inventory levels on Pharmacies')"
   ]
  },
  {
   "cell_type": "markdown",
   "metadata": {},
   "source": [
    "- **Transportation Quantities**: Amount (grams) for each product transported from a Laboratory to a Pharmacy in a specific quarter.\n",
    "\n",
    "    $z_{ i,j,k,t}$"
   ]
  },
  {
   "cell_type": "code",
   "execution_count": 17,
   "metadata": {},
   "outputs": [],
   "source": [
    "# Within Non-Negative-Reals\n",
    "model.z = Var(model.I, model.J, model.K, model.T, within=NonNegativeReals, doc = 'Transportation Quantities(g)')"
   ]
  },
  {
   "cell_type": "markdown",
   "metadata": {},
   "source": [
    "--------------------"
   ]
  },
  {
   "cell_type": "markdown",
   "metadata": {},
   "source": [
    "## Constraints"
   ]
  },
  {
   "cell_type": "markdown",
   "metadata": {},
   "source": [
    "- **Inventory Balance**: Ensures that the inventory at each pharmacy for a product at the end of a quarter equals the previous quarter's inventory plus incoming shipments minus demand. For Q1, initial inventory is assumed to be zero.\n",
    "\n",
    "    $y_{i,k,t} = y_{i,k,t - 1} + \\sum_{j}^{}z_{i,j,k,t} - demand_{i,k,t} \\quad \\forall i,k,t$"
   ]
  },
  {
   "cell_type": "code",
   "execution_count": 18,
   "metadata": {},
   "outputs": [],
   "source": [
    "def inventory_balance_rule(model, i, k, t):\n",
    "    if t == 'Q1':\n",
    "        # Assume an initial inventory level = 0\n",
    "        initial_inventory = 0\n",
    "\n",
    "        return model.y[i, k, t] == initial_inventory + sum(model.z[i, j, k, t] for j in model.J) - model.demand[i, k, t]\n",
    "    else:\n",
    "        prev_t = model.T.prev(t)\n",
    "        return  model.y[i, k, t] == model.y[i, k, prev_t] + sum(model.z[i, j, k, t] for j in model.J) - model.demand[i, k, t]\n",
    "    \n",
    "model.InventoryBalanceConstraint = Constraint(model.I, model.K, model.T, rule=inventory_balance_rule)\n"
   ]
  },
  {
   "cell_type": "markdown",
   "metadata": {},
   "source": [
    "- **Demand Satisfaction**: Ensures that the total supply of each product on each Pharmacy meets or exceeds its demand in each time period. Supply as the inventory and the incoming I from the J\n",
    "\n",
    "    $ y_{i,k,t-1} + \\sum_{j}^{}z_{i,j,k,t} \\ge demand_{i,k,t} \\quad \\forall i,k,t$"
   ]
  },
  {
   "cell_type": "code",
   "execution_count": 19,
   "metadata": {},
   "outputs": [],
   "source": [
    "def demand_satisfaction_rule(model, i, k, t):\n",
    "    if t == 'Q1': # initial inventory for Q1 is assumed to be 0\n",
    "        return sum(model.z[i, j, k, t] for j in model.J) >= model.demand[i, k, t]\n",
    "    else: \n",
    "        prev_t = model.T.prev(t)\n",
    "        return model.y[i, k, prev_t] + sum(model.z[i, j, k, t] for j in model.J) >= model.demand[i, k, t]\n",
    "\n",
    "model.DemandSatisfactionConstraint = Constraint(model.I, model.K, model.T, rule=demand_satisfaction_rule)"
   ]
  },
  {
   "cell_type": "markdown",
   "metadata": {},
   "source": [
    "- **Production Distribution**: Ensures that the quantity of each product produced at each laboratory is at least as much as the total amount shipped to all K.\n",
    "\n",
    "    $x_{ i,j,t} \\ge \\sum_{k}^{}z_{ i,j,k,t} \\quad \\forall i,j,t$"
   ]
  },
  {
   "cell_type": "code",
   "execution_count": 20,
   "metadata": {},
   "outputs": [],
   "source": [
    "def production_distribution_rule(model, i, j, t):\n",
    "    return sum(model.z[i, j, k, t] for k in model.K) <= model.x[i, j, t]\n",
    "\n",
    "model.ProductionDistributionConstraint = Constraint(model.I, model.J, model.T, rule=production_distribution_rule)"
   ]
  },
  {
   "cell_type": "markdown",
   "metadata": {},
   "source": [
    "- **Production Capacity**: Limits the total production at each laboratory to its maximum production capacity for each quarter.\n",
    "\n",
    "    $\\sum_{i}^{}x_{i,j,t} \\le productionCapacity_{j} \\quad \\forall j,t$"
   ]
  },
  {
   "cell_type": "code",
   "execution_count": 21,
   "metadata": {},
   "outputs": [],
   "source": [
    "def production_capacity_rule(model, j, t):\n",
    "    return sum(model.x[i, j, t] for i in model.I) <= model.productionCapacity[j]\n",
    "\n",
    "model.ProductionCapacityConstraint = Constraint(model.J, model.T, rule=production_capacity_rule)"
   ]
  },
  {
   "cell_type": "markdown",
   "metadata": {},
   "source": [
    "- **Storage Capacity**: Restricts the total inventory at each pharmacy to not exceed its storage capacity in each time period.\n",
    "\n",
    "    $\\sum_{i}^{}y_{i,k,t} \\le storageCapacity_{k} \\quad \\forall k,t $"
   ]
  },
  {
   "cell_type": "code",
   "execution_count": 22,
   "metadata": {},
   "outputs": [],
   "source": [
    "def storage_capacity_rule(model, k, t):\n",
    "    return sum(model.y[i, k, t] for i in model.I) <= model.storageCapacity[k]\n",
    "\n",
    "model.StorageCapacityConstraint = Constraint(model.K, model.T, rule=storage_capacity_rule)"
   ]
  },
  {
   "cell_type": "markdown",
   "metadata": {},
   "source": [
    "--------------------"
   ]
  },
  {
   "cell_type": "markdown",
   "metadata": {},
   "source": [
    "## Objective Function\n",
    "\n",
    "**Minimize** total costs associated with:\n",
    "- Production\n",
    "- Storage (inventory holding)\n",
    "- Transportation (shipping I from J to K)\n",
    "\n",
    "$min(\\sum_{i,j,t}^{}c_{i,j}x_{i,j,t} + \\sum_{i,k,t}^{}sC_{k}y_{i,k,t} + \\sum_{i,j,k,t}^{}t_{i,j,k}z_{i,j,k,t})$"
   ]
  },
  {
   "cell_type": "code",
   "execution_count": 23,
   "metadata": {},
   "outputs": [],
   "source": [
    "# Define the objective rule\n",
    "def total_cost_rule(model):\n",
    "    production_cost = sum((model.c[i, j] * model.x[i, j, t]) for i in model.I for j in model.J for t in model.T)\n",
    "\n",
    "    storage_cost = sum((model.sC[k] * model.y[i, k, t]) for i in model.I for k in model.K for t in model.T)\n",
    "\n",
    "    transportation_cost = sum((model.t[i, j, k] * model.z[i, j, k, t]) for i in model.I for j in model.J for k in model.K for t in model.T)\n",
    "\n",
    "    total_cost = production_cost + storage_cost + transportation_cost\n",
    "    return total_cost\n",
    "\n",
    "# Add the objective function to the model\n",
    "model.totalCost = Objective(rule=total_cost_rule, sense=minimize)\n",
    "\n",
    "# Dual problem\n",
    "model.dual = Suffix(direction=Suffix.IMPORT)\n"
   ]
  },
  {
   "cell_type": "markdown",
   "metadata": {},
   "source": [
    "--------------------"
   ]
  },
  {
   "cell_type": "markdown",
   "metadata": {},
   "source": [
    "## Solve"
   ]
  },
  {
   "cell_type": "code",
   "execution_count": 24,
   "metadata": {},
   "outputs": [
    {
     "name": "stdout",
     "output_type": "stream",
     "text": [
      "Set parameter Username\n",
      "Set parameter LicenseID to value 2583397\n",
      "Academic license - for non-commercial use only - expires 2025-11-13\n",
      "Read LP format model from file C:\\Users\\usuario\\AppData\\Local\\Temp\\tmpootyk_t5.pyomo.lp\n",
      "Reading time = 0.01 seconds\n",
      "x1: 204 rows, 304 columns, 896 nonzeros\n",
      "Set parameter QCPDual to value 1\n",
      "Gurobi Optimizer version 12.0.0 build v12.0.0rc1 (win64 - Windows 10.0 (19045.2))\n",
      "\n",
      "CPU model: AMD Ryzen 5 4500U with Radeon Graphics, instruction set [SSE2|AVX|AVX2]\n",
      "Thread count: 6 physical cores, 6 logical processors, using up to 6 threads\n",
      "\n",
      "Non-default parameters:\n",
      "QCPDual  1\n",
      "\n",
      "Optimize a model with 204 rows, 304 columns and 896 nonzeros\n",
      "Model fingerprint: 0x3608e81f\n",
      "Coefficient statistics:\n",
      "  Matrix range     [1e+00, 1e+00]\n",
      "  Objective range  [4e-01, 4e+00]\n",
      "  Bounds range     [0e+00, 0e+00]\n",
      "  RHS range        [5e+01, 1e+03]\n",
      "Presolve removed 48 rows and 48 columns\n",
      "Presolve time: 0.00s\n",
      "Presolved: 156 rows, 256 columns, 800 nonzeros\n",
      "\n",
      "Iteration    Objective       Primal Inf.    Dual Inf.      Time\n",
      "       0    0.0000000e+00   1.998000e+03   0.000000e+00      0s\n",
      "      98    3.1049144e+04   0.000000e+00   0.000000e+00      0s\n",
      "\n",
      "Solved in 98 iterations and 0.00 seconds (0.00 work units)\n",
      "Optimal objective  3.104914400e+04\n"
     ]
    },
    {
     "data": {
      "text/plain": [
       "{'Problem': [{'Name': 'x1', 'Lower bound': 31049.144, 'Upper bound': 31049.144, 'Number of objectives': 1, 'Number of constraints': 204, 'Number of variables': 304, 'Number of binary variables': 0, 'Number of integer variables': 0, 'Number of continuous variables': 304, 'Number of nonzeros': 896, 'Sense': 'minimize'}], 'Solver': [{'Status': 'ok', 'Return code': '0', 'Message': 'Model was solved to optimality (subject to tolerances), and an optimal solution is available.', 'Termination condition': 'optimal', 'Termination message': 'Model was solved to optimality (subject to tolerances), and an optimal solution is available.', 'Wall time': '0.003000020980834961', 'Error rc': 0, 'Time': 0.6832752227783203}], 'Solution': [OrderedDict([('number of solutions', 0), ('number of solutions displayed', 0)])]}"
      ]
     },
     "execution_count": 24,
     "metadata": {},
     "output_type": "execute_result"
    }
   ],
   "source": [
    "# Solver\n",
    "solver = SolverFactory('gurobi')\n",
    "solver.solve(model, tee=True)\n",
    "\n",
    "# Display results\n",
    "#model.display()"
   ]
  },
  {
   "cell_type": "markdown",
   "metadata": {},
   "source": [
    "#### Minimum Total Cost Solution"
   ]
  },
  {
   "cell_type": "code",
   "execution_count": null,
   "metadata": {},
   "outputs": [
    {
     "name": "stdout",
     "output_type": "stream",
     "text": [
      "Model unknown\n",
      "\n",
      "  Variables:\n",
      "    x : Production Quantities(g)\n",
      "        Size=48, Index=I*J*T\n",
      "        Key                                    : Lower : Value : Upper : Fixed : Stale : Domain\n",
      "         ('Antibiotic', 'Leganes_Plant', 'Q1') :     0 :   0.0 :  None : False : False : NonNegativeReals\n",
      "         ('Antibiotic', 'Leganes_Plant', 'Q2') :     0 :   0.0 :  None : False : False : NonNegativeReals\n",
      "         ('Antibiotic', 'Leganes_Plant', 'Q3') :     0 :   0.0 :  None : False : False : NonNegativeReals\n",
      "         ('Antibiotic', 'Leganes_Plant', 'Q4') :     0 :   7.0 :  None : False : False : NonNegativeReals\n",
      "          ('Antibiotic', 'Malaga_Plant', 'Q1') :     0 : 394.0 :  None : False : False : NonNegativeReals\n",
      "          ('Antibiotic', 'Malaga_Plant', 'Q2') :     0 : 336.0 :  None : False : False : NonNegativeReals\n",
      "          ('Antibiotic', 'Malaga_Plant', 'Q3') :     0 : 361.0 :  None : False : False : NonNegativeReals\n",
      "          ('Antibiotic', 'Malaga_Plant', 'Q4') :     0 : 388.0 :  None : False : False : NonNegativeReals\n",
      "        ('Antibiotic', 'Zaragoza_Plant', 'Q1') :     0 : 127.0 :  None : False : False : NonNegativeReals\n",
      "\n",
      "totalCost : Size=1, Index=None, Active=True\n",
      "    Key  : Active : Value\n",
      "    None :   True : 31049.144\n"
     ]
    }
   ],
   "source": [
    "# To ensure the model.display output does not show all component and just a preview, we will redirect the output and process it.\n",
    "buffer = StringIO()\n",
    "model.display(ostream=buffer)\n",
    "output = buffer.getvalue()\n",
    "buffer.close()\n",
    "\n",
    "# Display only the first 15\n",
    "print(\"\\n\".join(output.splitlines()[:15]) + \"\\n\") \n"
   ]
  },
  {
   "cell_type": "code",
   "execution_count": null,
   "metadata": {},
   "outputs": [],
   "source": [
    "\n",
    "# Total optimized Cost\n",
    "model.totalCost.display()\n"
   ]
  },
  {
   "cell_type": "markdown",
   "metadata": {},
   "source": [
    "The **optimal total cost** for the problem is 31049.144\n",
    "\n",
    "Let's interpret the results by gathering the optimal solution variables in a pandas dataframe:"
   ]
  },
  {
   "cell_type": "code",
   "execution_count": 42,
   "metadata": {},
   "outputs": [],
   "source": [
    "production_data = []\n",
    "for i in model.I:\n",
    "    for j in model.J:\n",
    "        for t in model.T:\n",
    "            production_data.append({\n",
    "                'product': i,\n",
    "                'Laboratory': j,\n",
    "                'Quarter': t,\n",
    "                'Quantity_Produced': model.x[i, j, t].value\n",
    "            })\n",
    "production_quantities_df = pd.DataFrame(production_data)\n",
    "\n",
    "### 2. Inventory Levels y[i,k,t]:\n",
    "inventory_data = []\n",
    "for i in model.I:\n",
    "    for k in model.K:\n",
    "        for t in model.T:\n",
    "            inventory_data.append({\n",
    "                'product': i,\n",
    "                'Pharmacy': k,\n",
    "                'Quarter': t,\n",
    "                'Inventory': model.y[i, k, t].value\n",
    "            })\n",
    "inventory_df = pd.DataFrame(inventory_data)\n",
    "\n",
    "## 3. Transportation Quantities z[i,j,k,t]:\n",
    "transportation_data = []\n",
    "for i in model.I:\n",
    "    for j in model.J:\n",
    "        for k in model.K:\n",
    "            for t in model.T:\n",
    "                transportation_data.append({\n",
    "                    'product': i,\n",
    "                    'Laboratory': j,\n",
    "                    'Pharmacy': k,\n",
    "                    'Quarter': t,\n",
    "                    'Transported_Quantity': model.z[i, j, k, t].value\n",
    "                })\n",
    "transportation_df = pd.DataFrame(transportation_data)"
   ]
  },
  {
   "cell_type": "code",
   "execution_count": 43,
   "metadata": {},
   "outputs": [
    {
     "data": {
      "text/html": [
       "<div>\n",
       "<style scoped>\n",
       "    .dataframe tbody tr th:only-of-type {\n",
       "        vertical-align: middle;\n",
       "    }\n",
       "\n",
       "    .dataframe tbody tr th {\n",
       "        vertical-align: top;\n",
       "    }\n",
       "\n",
       "    .dataframe thead th {\n",
       "        text-align: right;\n",
       "    }\n",
       "</style>\n",
       "<table border=\"1\" class=\"dataframe\">\n",
       "  <thead>\n",
       "    <tr style=\"text-align: right;\">\n",
       "      <th></th>\n",
       "      <th>product</th>\n",
       "      <th>Laboratory</th>\n",
       "      <th>Quarter</th>\n",
       "      <th>Quantity_Produced</th>\n",
       "    </tr>\n",
       "  </thead>\n",
       "  <tbody>\n",
       "    <tr>\n",
       "      <th>0</th>\n",
       "      <td>Painkiller</td>\n",
       "      <td>Leganes_Plant</td>\n",
       "      <td>Q1</td>\n",
       "      <td>329.0</td>\n",
       "    </tr>\n",
       "    <tr>\n",
       "      <th>1</th>\n",
       "      <td>Painkiller</td>\n",
       "      <td>Leganes_Plant</td>\n",
       "      <td>Q2</td>\n",
       "      <td>415.0</td>\n",
       "    </tr>\n",
       "    <tr>\n",
       "      <th>2</th>\n",
       "      <td>Painkiller</td>\n",
       "      <td>Leganes_Plant</td>\n",
       "      <td>Q3</td>\n",
       "      <td>372.0</td>\n",
       "    </tr>\n",
       "  </tbody>\n",
       "</table>\n",
       "</div>"
      ],
      "text/plain": [
       "      product     Laboratory Quarter  Quantity_Produced\n",
       "0  Painkiller  Leganes_Plant      Q1              329.0\n",
       "1  Painkiller  Leganes_Plant      Q2              415.0\n",
       "2  Painkiller  Leganes_Plant      Q3              372.0"
      ]
     },
     "execution_count": 43,
     "metadata": {},
     "output_type": "execute_result"
    }
   ],
   "source": [
    "production_quantities_df.head(3)"
   ]
  },
  {
   "cell_type": "code",
   "execution_count": 44,
   "metadata": {},
   "outputs": [
    {
     "data": {
      "text/html": [
       "<div>\n",
       "<style scoped>\n",
       "    .dataframe tbody tr th:only-of-type {\n",
       "        vertical-align: middle;\n",
       "    }\n",
       "\n",
       "    .dataframe tbody tr th {\n",
       "        vertical-align: top;\n",
       "    }\n",
       "\n",
       "    .dataframe thead th {\n",
       "        text-align: right;\n",
       "    }\n",
       "</style>\n",
       "<table border=\"1\" class=\"dataframe\">\n",
       "  <thead>\n",
       "    <tr style=\"text-align: right;\">\n",
       "      <th></th>\n",
       "      <th>product</th>\n",
       "      <th>Pharmacy</th>\n",
       "      <th>Quarter</th>\n",
       "      <th>Inventory</th>\n",
       "    </tr>\n",
       "  </thead>\n",
       "  <tbody>\n",
       "    <tr>\n",
       "      <th>0</th>\n",
       "      <td>Painkiller</td>\n",
       "      <td>Madrid_F</td>\n",
       "      <td>Q1</td>\n",
       "      <td>0.0</td>\n",
       "    </tr>\n",
       "    <tr>\n",
       "      <th>1</th>\n",
       "      <td>Painkiller</td>\n",
       "      <td>Madrid_F</td>\n",
       "      <td>Q2</td>\n",
       "      <td>0.0</td>\n",
       "    </tr>\n",
       "    <tr>\n",
       "      <th>2</th>\n",
       "      <td>Painkiller</td>\n",
       "      <td>Madrid_F</td>\n",
       "      <td>Q3</td>\n",
       "      <td>0.0</td>\n",
       "    </tr>\n",
       "  </tbody>\n",
       "</table>\n",
       "</div>"
      ],
      "text/plain": [
       "      product  Pharmacy Quarter  Inventory\n",
       "0  Painkiller  Madrid_F      Q1        0.0\n",
       "1  Painkiller  Madrid_F      Q2        0.0\n",
       "2  Painkiller  Madrid_F      Q3        0.0"
      ]
     },
     "execution_count": 44,
     "metadata": {},
     "output_type": "execute_result"
    }
   ],
   "source": [
    "inventory_df.head(3)"
   ]
  },
  {
   "cell_type": "code",
   "execution_count": 45,
   "metadata": {},
   "outputs": [
    {
     "data": {
      "text/html": [
       "<div>\n",
       "<style scoped>\n",
       "    .dataframe tbody tr th:only-of-type {\n",
       "        vertical-align: middle;\n",
       "    }\n",
       "\n",
       "    .dataframe tbody tr th {\n",
       "        vertical-align: top;\n",
       "    }\n",
       "\n",
       "    .dataframe thead th {\n",
       "        text-align: right;\n",
       "    }\n",
       "</style>\n",
       "<table border=\"1\" class=\"dataframe\">\n",
       "  <thead>\n",
       "    <tr style=\"text-align: right;\">\n",
       "      <th></th>\n",
       "      <th>product</th>\n",
       "      <th>Laboratory</th>\n",
       "      <th>Pharmacy</th>\n",
       "      <th>Quarter</th>\n",
       "      <th>Transported_Quantity</th>\n",
       "    </tr>\n",
       "  </thead>\n",
       "  <tbody>\n",
       "    <tr>\n",
       "      <th>0</th>\n",
       "      <td>Painkiller</td>\n",
       "      <td>Leganes_Plant</td>\n",
       "      <td>Madrid_F</td>\n",
       "      <td>Q1</td>\n",
       "      <td>131.0</td>\n",
       "    </tr>\n",
       "    <tr>\n",
       "      <th>1</th>\n",
       "      <td>Painkiller</td>\n",
       "      <td>Leganes_Plant</td>\n",
       "      <td>Madrid_F</td>\n",
       "      <td>Q2</td>\n",
       "      <td>136.0</td>\n",
       "    </tr>\n",
       "    <tr>\n",
       "      <th>2</th>\n",
       "      <td>Painkiller</td>\n",
       "      <td>Leganes_Plant</td>\n",
       "      <td>Madrid_F</td>\n",
       "      <td>Q3</td>\n",
       "      <td>142.0</td>\n",
       "    </tr>\n",
       "  </tbody>\n",
       "</table>\n",
       "</div>"
      ],
      "text/plain": [
       "      product     Laboratory  Pharmacy Quarter  Transported_Quantity\n",
       "0  Painkiller  Leganes_Plant  Madrid_F      Q1                 131.0\n",
       "1  Painkiller  Leganes_Plant  Madrid_F      Q2                 136.0\n",
       "2  Painkiller  Leganes_Plant  Madrid_F      Q3                 142.0"
      ]
     },
     "execution_count": 45,
     "metadata": {},
     "output_type": "execute_result"
    }
   ],
   "source": [
    "transportation_df.head(3)"
   ]
  },
  {
   "cell_type": "markdown",
   "metadata": {},
   "source": [
    "## Result Analysis"
   ]
  },
  {
   "cell_type": "markdown",
   "metadata": {},
   "source": [
    "#### Production Quantities"
   ]
  },
  {
   "cell_type": "code",
   "execution_count": 46,
   "metadata": {},
   "outputs": [
    {
     "data": {
      "text/html": [
       "<div>\n",
       "<style scoped>\n",
       "    .dataframe tbody tr th:only-of-type {\n",
       "        vertical-align: middle;\n",
       "    }\n",
       "\n",
       "    .dataframe tbody tr th {\n",
       "        vertical-align: top;\n",
       "    }\n",
       "\n",
       "    .dataframe thead th {\n",
       "        text-align: right;\n",
       "    }\n",
       "</style>\n",
       "<table border=\"1\" class=\"dataframe\">\n",
       "  <thead>\n",
       "    <tr style=\"text-align: right;\">\n",
       "      <th></th>\n",
       "      <th>product</th>\n",
       "      <th>Laboratory</th>\n",
       "      <th>Quantity_Produced</th>\n",
       "    </tr>\n",
       "  </thead>\n",
       "  <tbody>\n",
       "    <tr>\n",
       "      <th>0</th>\n",
       "      <td>Antibiotic</td>\n",
       "      <td>Leganes_Plant</td>\n",
       "      <td>7.0</td>\n",
       "    </tr>\n",
       "    <tr>\n",
       "      <th>1</th>\n",
       "      <td>Antibiotic</td>\n",
       "      <td>Malaga_Plant</td>\n",
       "      <td>1479.0</td>\n",
       "    </tr>\n",
       "    <tr>\n",
       "      <th>...</th>\n",
       "      <td>...</td>\n",
       "      <td>...</td>\n",
       "      <td>...</td>\n",
       "    </tr>\n",
       "    <tr>\n",
       "      <th>10</th>\n",
       "      <td>Vaccine</td>\n",
       "      <td>Malaga_Plant</td>\n",
       "      <td>1432.0</td>\n",
       "    </tr>\n",
       "    <tr>\n",
       "      <th>11</th>\n",
       "      <td>Vaccine</td>\n",
       "      <td>Zaragoza_Plant</td>\n",
       "      <td>491.0</td>\n",
       "    </tr>\n",
       "  </tbody>\n",
       "</table>\n",
       "<p>12 rows × 3 columns</p>\n",
       "</div>"
      ],
      "text/plain": [
       "       product      Laboratory  Quantity_Produced\n",
       "0   Antibiotic   Leganes_Plant                7.0\n",
       "1   Antibiotic    Malaga_Plant             1479.0\n",
       "..         ...             ...                ...\n",
       "10     Vaccine    Malaga_Plant             1432.0\n",
       "11     Vaccine  Zaragoza_Plant              491.0\n",
       "\n",
       "[12 rows x 3 columns]"
      ]
     },
     "execution_count": 46,
     "metadata": {},
     "output_type": "execute_result"
    }
   ],
   "source": [
    "production_quantities_df.groupby(['product', 'Laboratory'])['Quantity_Produced'].sum().reset_index() # aggregate quarters"
   ]
  },
  {
   "cell_type": "code",
   "execution_count": 47,
   "metadata": {},
   "outputs": [
    {
     "data": {
      "text/html": [
       "<div>\n",
       "<style scoped>\n",
       "    .dataframe tbody tr th:only-of-type {\n",
       "        vertical-align: middle;\n",
       "    }\n",
       "\n",
       "    .dataframe tbody tr th {\n",
       "        vertical-align: top;\n",
       "    }\n",
       "\n",
       "    .dataframe thead th {\n",
       "        text-align: right;\n",
       "    }\n",
       "</style>\n",
       "<table border=\"1\" class=\"dataframe\">\n",
       "  <thead>\n",
       "    <tr style=\"text-align: right;\">\n",
       "      <th></th>\n",
       "      <th>Laboratory</th>\n",
       "      <th>Quantity_Produced</th>\n",
       "    </tr>\n",
       "  </thead>\n",
       "  <tbody>\n",
       "    <tr>\n",
       "      <th>0</th>\n",
       "      <td>Leganes_Plant</td>\n",
       "      <td>2400.0</td>\n",
       "    </tr>\n",
       "    <tr>\n",
       "      <th>1</th>\n",
       "      <td>Malaga_Plant</td>\n",
       "      <td>4000.0</td>\n",
       "    </tr>\n",
       "    <tr>\n",
       "      <th>2</th>\n",
       "      <td>Zaragoza_Plant</td>\n",
       "      <td>1592.0</td>\n",
       "    </tr>\n",
       "  </tbody>\n",
       "</table>\n",
       "</div>"
      ],
      "text/plain": [
       "       Laboratory  Quantity_Produced\n",
       "0   Leganes_Plant             2400.0\n",
       "1    Malaga_Plant             4000.0\n",
       "2  Zaragoza_Plant             1592.0"
      ]
     },
     "execution_count": 47,
     "metadata": {},
     "output_type": "execute_result"
    }
   ],
   "source": [
    "production_quantities_df.groupby(['Laboratory'])['Quantity_Produced'].sum().reset_index() # aggregate quarters and products"
   ]
  },
  {
   "cell_type": "markdown",
   "metadata": {},
   "source": [
    "* For this analysis, we grouped the data by quarters to examine the overall production of products throughout the year for each laboratory and to grasp a broader view of production. Additionally, we grouped by laboratory to assess each laboratory total output, finding that two laboratories are currently operating at maximum production capacity.\n",
    "\n",
    "* The laboratory in Malaga is the highest producer overall, operating at full capacity, producing 1,000 products per quarter—its maximum possible output. This may be due to its central location with the pharmacies (Valencia, Sevilla, Madrid), which allows it to distribute to most pharmacies at lower costs and to produce products at reduced production costs as well. \n",
    "\n",
    "* It is interesting to look that Leganes is the leading producer of painkillers each quarter, though it does not produce any vaccines. This suggests that the cost of vaccine production and transportation is significantly higher than what other facilities can offer, whereas Leganes specializes as the most cost-effective producer of painkillers. Like Malaga, it is also operating at full capacity, producing 600 products per quarter, primarily focusing on painkillers. However, this focus on painkillers limits its capacity to supply vaccines to Madrid, where transportation costs would be lower than for other laboratories delivering vaccines to Madrid.\n",
    "\n",
    "* Furthermore, across all quarters, Leganés produces only 7 grams of antibiotics. In reality, this is highly inefficient, as initiating a production process in a laboratory for such a small quantity is neither optimal nor cost-effective. Therefore, it may be beneficial to introduce additional constraints on production batch sizes to improve efficiency."
   ]
  },
  {
   "cell_type": "markdown",
   "metadata": {},
   "source": [
    "#### Inventory Quantity"
   ]
  },
  {
   "cell_type": "code",
   "execution_count": 48,
   "metadata": {},
   "outputs": [
    {
     "data": {
      "text/plain": [
       "np.float64(0.0)"
      ]
     },
     "execution_count": 48,
     "metadata": {},
     "output_type": "execute_result"
    }
   ],
   "source": [
    "inventory_df['Inventory'].sum() # sum all inventories at the end of each quarters"
   ]
  },
  {
   "cell_type": "markdown",
   "metadata": {},
   "source": [
    "* None of the pharmacies have any inventory left at the end of the quarter after meeting the quarterly demand.\n",
    "\n",
    "* The optimal solution does not retain any of the transported products for the following quarter. Instead, it follows a Just-in-Time production model, where all demand is met with products produced within that quarter. This approach ensures no products are saved at the end of the quarter. In the next part of the assignment, it would be interesting to introduce incentives for pharmacies to retain some products for the next quarter. Currently, there is no benefit in ordering more than what is required for a single quarter because transport costs remain the same regardless of transporting additional quarter's worth of products. Therefore, storing products only adds unnecessary costs."
   ]
  },
  {
   "cell_type": "markdown",
   "metadata": {},
   "source": [
    "#### Transportation Quantities"
   ]
  },
  {
   "cell_type": "code",
   "execution_count": 49,
   "metadata": {},
   "outputs": [
    {
     "data": {
      "text/html": [
       "<div>\n",
       "<style scoped>\n",
       "    .dataframe tbody tr th:only-of-type {\n",
       "        vertical-align: middle;\n",
       "    }\n",
       "\n",
       "    .dataframe tbody tr th {\n",
       "        vertical-align: top;\n",
       "    }\n",
       "\n",
       "    .dataframe thead th {\n",
       "        text-align: right;\n",
       "    }\n",
       "</style>\n",
       "<table border=\"1\" class=\"dataframe\">\n",
       "  <thead>\n",
       "    <tr style=\"text-align: right;\">\n",
       "      <th></th>\n",
       "      <th>Laboratory</th>\n",
       "      <th>Pharmacy</th>\n",
       "      <th>Transported_Quantity</th>\n",
       "    </tr>\n",
       "  </thead>\n",
       "  <tbody>\n",
       "    <tr>\n",
       "      <th>0</th>\n",
       "      <td>Leganes_Plant</td>\n",
       "      <td>Barcelona_F</td>\n",
       "      <td>521.0</td>\n",
       "    </tr>\n",
       "    <tr>\n",
       "      <th>1</th>\n",
       "      <td>Leganes_Plant</td>\n",
       "      <td>Madrid_F</td>\n",
       "      <td>1009.0</td>\n",
       "    </tr>\n",
       "    <tr>\n",
       "      <th>...</th>\n",
       "      <td>...</td>\n",
       "      <td>...</td>\n",
       "      <td>...</td>\n",
       "    </tr>\n",
       "    <tr>\n",
       "      <th>10</th>\n",
       "      <td>Zaragoza_Plant</td>\n",
       "      <td>Sevilla_F</td>\n",
       "      <td>0.0</td>\n",
       "    </tr>\n",
       "    <tr>\n",
       "      <th>11</th>\n",
       "      <td>Zaragoza_Plant</td>\n",
       "      <td>Valencia_F</td>\n",
       "      <td>120.0</td>\n",
       "    </tr>\n",
       "  </tbody>\n",
       "</table>\n",
       "<p>12 rows × 3 columns</p>\n",
       "</div>"
      ],
      "text/plain": [
       "        Laboratory     Pharmacy  Transported_Quantity\n",
       "0    Leganes_Plant  Barcelona_F                 521.0\n",
       "1    Leganes_Plant     Madrid_F                1009.0\n",
       "..             ...          ...                   ...\n",
       "10  Zaragoza_Plant    Sevilla_F                   0.0\n",
       "11  Zaragoza_Plant   Valencia_F                 120.0\n",
       "\n",
       "[12 rows x 3 columns]"
      ]
     },
     "execution_count": 49,
     "metadata": {},
     "output_type": "execute_result"
    }
   ],
   "source": [
    "transportation_df.groupby(['Laboratory', 'Pharmacy'])['Transported_Quantity'].sum().reset_index() # aggregate by quarters"
   ]
  },
  {
   "cell_type": "markdown",
   "metadata": {},
   "source": [
    "* For the analysis we aggregated by product and quarter, gaining a broader view of the interconnections between laboratories and pharmacies, independent of specific products and across the entire year. This highlights the geographical relationships influencing transportation costs and production costs. \n",
    "\n",
    "* For instance, Leganés primarily supplies Madrid, Malaga focuses on Seville, and Zaragoza on Barcelona. Valencia, however, is supplied by both Leganés and Malaga. This is because, while Leganés is closer, it prioritizes meeting demand in Madrid, while Malaga offers the lowest production costs. Unlike other laboratories, which are each linked to a specific nearby pharmacy, Valencia's demand is split between the closest and most cost-effective options.\n",
    "\n",
    "* Note that Zaragoza does not supply Seville or Madrid, as it focuses most of its efforts on Barcelona, its nearest location. Likewise, Malaga does not supply Barcelona, representing the high costs of transporting products over long distances across Spain, which is not cost-effective."
   ]
  },
  {
   "cell_type": "markdown",
   "metadata": {},
   "source": [
    "--------------------"
   ]
  },
  {
   "cell_type": "markdown",
   "metadata": {},
   "source": [
    "## Sensitivities Analysis\n",
    "In this analysis we are going to study how the solution to our problem responds to changes in each of its constraints, identifying in which of them the optimal solution depends on the most."
   ]
  },
  {
   "cell_type": "code",
   "execution_count": null,
   "metadata": {},
   "outputs": [
    {
     "ename": "AttributeError",
     "evalue": "'ConcreteModel' object has no attribute 'dual'",
     "output_type": "error",
     "traceback": [
      "\u001b[1;31m---------------------------------------------------------------------------\u001b[0m",
      "\u001b[1;31mAttributeError\u001b[0m                            Traceback (most recent call last)",
      "Cell \u001b[1;32mIn[76], line 3\u001b[0m\n\u001b[0;32m      1\u001b[0m \u001b[38;5;66;03m# Redirect dual display output to a buffer, to just show a preview of dual\u001b[39;00m\n\u001b[0;32m      2\u001b[0m buffer \u001b[38;5;241m=\u001b[39m StringIO()\n\u001b[1;32m----> 3\u001b[0m \u001b[43mmodel\u001b[49m\u001b[38;5;241;43m.\u001b[39;49m\u001b[43mdual\u001b[49m\u001b[38;5;241m.\u001b[39mdisplay(ostream\u001b[38;5;241m=\u001b[39mbuffer)\n\u001b[0;32m      4\u001b[0m output \u001b[38;5;241m=\u001b[39m buffer\u001b[38;5;241m.\u001b[39mgetvalue()\n\u001b[0;32m      5\u001b[0m buffer\u001b[38;5;241m.\u001b[39mclose()\n",
      "File \u001b[1;32mc:\\Users\\usuario\\anaconda3\\envs\\myenv\\lib\\site-packages\\pyomo\\core\\base\\block.py:550\u001b[0m, in \u001b[0;36mBlockData.__getattr__\u001b[1;34m(self, val)\u001b[0m\n\u001b[0;32m    547\u001b[0m     \u001b[38;5;28;01mreturn\u001b[39;00m _component_decorator(\u001b[38;5;28mself\u001b[39m, ModelComponentFactory\u001b[38;5;241m.\u001b[39mget_class(val))\n\u001b[0;32m    548\u001b[0m \u001b[38;5;66;03m# Since the base classes don't support getattr, we can just\u001b[39;00m\n\u001b[0;32m    549\u001b[0m \u001b[38;5;66;03m# throw the \"normal\" AttributeError\u001b[39;00m\n\u001b[1;32m--> 550\u001b[0m \u001b[38;5;28;01mraise\u001b[39;00m \u001b[38;5;167;01mAttributeError\u001b[39;00m(\n\u001b[0;32m    551\u001b[0m     \u001b[38;5;124m\"\u001b[39m\u001b[38;5;124m'\u001b[39m\u001b[38;5;132;01m%s\u001b[39;00m\u001b[38;5;124m'\u001b[39m\u001b[38;5;124m object has no attribute \u001b[39m\u001b[38;5;124m'\u001b[39m\u001b[38;5;132;01m%s\u001b[39;00m\u001b[38;5;124m'\u001b[39m\u001b[38;5;124m\"\u001b[39m \u001b[38;5;241m%\u001b[39m (\u001b[38;5;28mself\u001b[39m\u001b[38;5;241m.\u001b[39m\u001b[38;5;18m__class__\u001b[39m\u001b[38;5;241m.\u001b[39m\u001b[38;5;18m__name__\u001b[39m, val)\n\u001b[0;32m    552\u001b[0m )\n",
      "\u001b[1;31mAttributeError\u001b[0m: 'ConcreteModel' object has no attribute 'dual'"
     ]
    }
   ],
   "source": [
    "# Redirect dual display output to a buffer, to just show a preview of dual\n",
    "buffer = StringIO()\n",
    "model.dual.display(ostream=buffer)\n",
    "output = buffer.getvalue()\n",
    "buffer.close()\n",
    "\n",
    "print(\"\\n\".join(output.splitlines()[:10]))"
   ]
  },
  {
   "cell_type": "code",
   "execution_count": 55,
   "metadata": {},
   "outputs": [],
   "source": [
    "###############################################################################\n",
    "# Convert DUAL values to a DATAFRAME to easse visualization and interpretation\n",
    "###############################################################################\n",
    "\n",
    "if hasattr(model, 'dual'):\n",
    "    duals_data = []\n",
    "\n",
    "    # Inventory Balance Constraint Duals\n",
    "    for i in model.I:\n",
    "        for k in model.K:\n",
    "            for t in model.T:\n",
    "                constraint = model.InventoryBalanceConstraint[i, k, t]\n",
    "                if constraint in model.dual:\n",
    "                    duals_data.append({\n",
    "                        'Constraint_Type': 'InventoryBalance',\n",
    "                        'Product': i,\n",
    "                        'Pharmacy': k,\n",
    "                        'Quarter': t,\n",
    "                        'Dual_Value': model.dual[constraint]\n",
    "                    })\n",
    "\n",
    "    # Demand Satisfaction Constraint Duals\n",
    "    for i in model.I:\n",
    "        for k in model.K:\n",
    "            for t in model.T:\n",
    "                constraint = model.DemandSatisfactionConstraint[i, k, t]\n",
    "                if constraint in model.dual:\n",
    "                    duals_data.append({\n",
    "                        'Constraint_Type': 'DemandSatisfaction',\n",
    "                        'Product': i,\n",
    "                        'Pharmacy': k,\n",
    "                        'Quarter': t,\n",
    "                        'Dual_Value': model.dual[constraint]\n",
    "                    })\n",
    "\n",
    "    # Production Distribution Constraint Duals\n",
    "    for i in model.I:\n",
    "        for j in model.J:\n",
    "            for t in model.T:\n",
    "                constraint = model.ProductionDistributionConstraint[i, j, t]\n",
    "                if constraint in model.dual:\n",
    "                    duals_data.append({\n",
    "                        'Constraint_Type': 'ProductionDistribution',\n",
    "                        'Product': i,\n",
    "                        'Laboratory': j,\n",
    "                        'Quarter': t,\n",
    "                        'Dual_Value': model.dual[constraint]\n",
    "                    })\n",
    "\n",
    "    # Production Capacity Constraint Duals\n",
    "    for j in model.J:\n",
    "        for t in model.T:\n",
    "            constraint = model.ProductionCapacityConstraint[j, t]\n",
    "            if constraint in model.dual:\n",
    "                duals_data.append({\n",
    "                    'Constraint_Type': 'ProductionCapacity',\n",
    "                    'Laboratory': j,\n",
    "                    'Quarter': t,\n",
    "                    'Dual_Value': model.dual[constraint]\n",
    "                })\n",
    "\n",
    "    # Storage Capacity Constraint Duals\n",
    "    for k in model.K:\n",
    "        for t in model.T:\n",
    "            constraint = model.StorageCapacityConstraint[k, t]\n",
    "            if constraint in model.dual:\n",
    "                duals_data.append({\n",
    "                    'Constraint_Type': 'StorageCapacity',\n",
    "                    'Pharmacy': k,\n",
    "                    'Quarter': t,\n",
    "                    'Dual_Value': model.dual[constraint]\n",
    "                })\n",
    "\n",
    "    duals_df = pd.DataFrame(duals_data)\n"
   ]
  },
  {
   "cell_type": "code",
   "execution_count": 56,
   "metadata": {},
   "outputs": [
    {
     "data": {
      "text/html": [
       "<div>\n",
       "<style scoped>\n",
       "    .dataframe tbody tr th:only-of-type {\n",
       "        vertical-align: middle;\n",
       "    }\n",
       "\n",
       "    .dataframe tbody tr th {\n",
       "        vertical-align: top;\n",
       "    }\n",
       "\n",
       "    .dataframe thead th {\n",
       "        text-align: right;\n",
       "    }\n",
       "</style>\n",
       "<table border=\"1\" class=\"dataframe\">\n",
       "  <thead>\n",
       "    <tr style=\"text-align: right;\">\n",
       "      <th></th>\n",
       "      <th>Constraint_Type</th>\n",
       "      <th>Product</th>\n",
       "      <th>Pharmacy</th>\n",
       "      <th>Quarter</th>\n",
       "      <th>Dual_Value</th>\n",
       "      <th>Laboratory</th>\n",
       "    </tr>\n",
       "  </thead>\n",
       "  <tbody>\n",
       "    <tr>\n",
       "      <th>0</th>\n",
       "      <td>InventoryBalance</td>\n",
       "      <td>Painkiller</td>\n",
       "      <td>Madrid_F</td>\n",
       "      <td>Q1</td>\n",
       "      <td>-2.218</td>\n",
       "      <td>NaN</td>\n",
       "    </tr>\n",
       "    <tr>\n",
       "      <th>1</th>\n",
       "      <td>InventoryBalance</td>\n",
       "      <td>Painkiller</td>\n",
       "      <td>Madrid_F</td>\n",
       "      <td>Q2</td>\n",
       "      <td>-2.218</td>\n",
       "      <td>NaN</td>\n",
       "    </tr>\n",
       "    <tr>\n",
       "      <th>2</th>\n",
       "      <td>InventoryBalance</td>\n",
       "      <td>Painkiller</td>\n",
       "      <td>Madrid_F</td>\n",
       "      <td>Q3</td>\n",
       "      <td>-2.218</td>\n",
       "      <td>NaN</td>\n",
       "    </tr>\n",
       "  </tbody>\n",
       "</table>\n",
       "</div>"
      ],
      "text/plain": [
       "    Constraint_Type     Product  Pharmacy Quarter  Dual_Value Laboratory\n",
       "0  InventoryBalance  Painkiller  Madrid_F      Q1      -2.218        NaN\n",
       "1  InventoryBalance  Painkiller  Madrid_F      Q2      -2.218        NaN\n",
       "2  InventoryBalance  Painkiller  Madrid_F      Q3      -2.218        NaN"
      ]
     },
     "execution_count": 56,
     "metadata": {},
     "output_type": "execute_result"
    }
   ],
   "source": [
    "duals_df[duals_df['Constraint_Type'] == 'InventoryBalance'].head(3) # filter by Constraints. We might find some na's in the df, \n",
    "                                                                    # because in some cases the constraint does not take all sets"
   ]
  },
  {
   "cell_type": "code",
   "execution_count": 57,
   "metadata": {},
   "outputs": [
    {
     "data": {
      "text/html": [
       "<div>\n",
       "<style scoped>\n",
       "    .dataframe tbody tr th:only-of-type {\n",
       "        vertical-align: middle;\n",
       "    }\n",
       "\n",
       "    .dataframe tbody tr th {\n",
       "        vertical-align: top;\n",
       "    }\n",
       "\n",
       "    .dataframe thead th {\n",
       "        text-align: right;\n",
       "    }\n",
       "</style>\n",
       "<table border=\"1\" class=\"dataframe\">\n",
       "  <thead>\n",
       "    <tr style=\"text-align: right;\">\n",
       "      <th></th>\n",
       "      <th>Constraint_Type</th>\n",
       "      <th>Product</th>\n",
       "      <th>Pharmacy</th>\n",
       "      <th>Quarter</th>\n",
       "      <th>Dual_Value</th>\n",
       "      <th>Laboratory</th>\n",
       "    </tr>\n",
       "  </thead>\n",
       "  <tbody>\n",
       "    <tr>\n",
       "      <th>64</th>\n",
       "      <td>DemandSatisfaction</td>\n",
       "      <td>Painkiller</td>\n",
       "      <td>Madrid_F</td>\n",
       "      <td>Q1</td>\n",
       "      <td>0.0</td>\n",
       "      <td>NaN</td>\n",
       "    </tr>\n",
       "    <tr>\n",
       "      <th>65</th>\n",
       "      <td>DemandSatisfaction</td>\n",
       "      <td>Painkiller</td>\n",
       "      <td>Madrid_F</td>\n",
       "      <td>Q2</td>\n",
       "      <td>0.0</td>\n",
       "      <td>NaN</td>\n",
       "    </tr>\n",
       "    <tr>\n",
       "      <th>66</th>\n",
       "      <td>DemandSatisfaction</td>\n",
       "      <td>Painkiller</td>\n",
       "      <td>Madrid_F</td>\n",
       "      <td>Q3</td>\n",
       "      <td>0.0</td>\n",
       "      <td>NaN</td>\n",
       "    </tr>\n",
       "  </tbody>\n",
       "</table>\n",
       "</div>"
      ],
      "text/plain": [
       "       Constraint_Type     Product  Pharmacy Quarter  Dual_Value Laboratory\n",
       "64  DemandSatisfaction  Painkiller  Madrid_F      Q1         0.0        NaN\n",
       "65  DemandSatisfaction  Painkiller  Madrid_F      Q2         0.0        NaN\n",
       "66  DemandSatisfaction  Painkiller  Madrid_F      Q3         0.0        NaN"
      ]
     },
     "execution_count": 57,
     "metadata": {},
     "output_type": "execute_result"
    }
   ],
   "source": [
    "duals_df[duals_df['Constraint_Type'] == 'DemandSatisfaction'].head(3)"
   ]
  },
  {
   "cell_type": "code",
   "execution_count": 58,
   "metadata": {},
   "outputs": [
    {
     "data": {
      "text/html": [
       "<div>\n",
       "<style scoped>\n",
       "    .dataframe tbody tr th:only-of-type {\n",
       "        vertical-align: middle;\n",
       "    }\n",
       "\n",
       "    .dataframe tbody tr th {\n",
       "        vertical-align: top;\n",
       "    }\n",
       "\n",
       "    .dataframe thead th {\n",
       "        text-align: right;\n",
       "    }\n",
       "</style>\n",
       "<table border=\"1\" class=\"dataframe\">\n",
       "  <thead>\n",
       "    <tr style=\"text-align: right;\">\n",
       "      <th></th>\n",
       "      <th>Constraint_Type</th>\n",
       "      <th>Product</th>\n",
       "      <th>Pharmacy</th>\n",
       "      <th>Quarter</th>\n",
       "      <th>Dual_Value</th>\n",
       "      <th>Laboratory</th>\n",
       "    </tr>\n",
       "  </thead>\n",
       "  <tbody>\n",
       "    <tr>\n",
       "      <th>128</th>\n",
       "      <td>ProductionDistribution</td>\n",
       "      <td>Painkiller</td>\n",
       "      <td>NaN</td>\n",
       "      <td>Q1</td>\n",
       "      <td>-1.318</td>\n",
       "      <td>Leganes_Plant</td>\n",
       "    </tr>\n",
       "    <tr>\n",
       "      <th>129</th>\n",
       "      <td>ProductionDistribution</td>\n",
       "      <td>Painkiller</td>\n",
       "      <td>NaN</td>\n",
       "      <td>Q2</td>\n",
       "      <td>-1.318</td>\n",
       "      <td>Leganes_Plant</td>\n",
       "    </tr>\n",
       "    <tr>\n",
       "      <th>130</th>\n",
       "      <td>ProductionDistribution</td>\n",
       "      <td>Painkiller</td>\n",
       "      <td>NaN</td>\n",
       "      <td>Q3</td>\n",
       "      <td>-1.318</td>\n",
       "      <td>Leganes_Plant</td>\n",
       "    </tr>\n",
       "  </tbody>\n",
       "</table>\n",
       "</div>"
      ],
      "text/plain": [
       "            Constraint_Type     Product Pharmacy Quarter  Dual_Value  \\\n",
       "128  ProductionDistribution  Painkiller      NaN      Q1      -1.318   \n",
       "129  ProductionDistribution  Painkiller      NaN      Q2      -1.318   \n",
       "130  ProductionDistribution  Painkiller      NaN      Q3      -1.318   \n",
       "\n",
       "        Laboratory  \n",
       "128  Leganes_Plant  \n",
       "129  Leganes_Plant  \n",
       "130  Leganes_Plant  "
      ]
     },
     "execution_count": 58,
     "metadata": {},
     "output_type": "execute_result"
    }
   ],
   "source": [
    "duals_df[duals_df['Constraint_Type'] == 'ProductionDistribution'].head(3)"
   ]
  },
  {
   "cell_type": "code",
   "execution_count": 59,
   "metadata": {},
   "outputs": [
    {
     "data": {
      "text/html": [
       "<div>\n",
       "<style scoped>\n",
       "    .dataframe tbody tr th:only-of-type {\n",
       "        vertical-align: middle;\n",
       "    }\n",
       "\n",
       "    .dataframe tbody tr th {\n",
       "        vertical-align: top;\n",
       "    }\n",
       "\n",
       "    .dataframe thead th {\n",
       "        text-align: right;\n",
       "    }\n",
       "</style>\n",
       "<table border=\"1\" class=\"dataframe\">\n",
       "  <thead>\n",
       "    <tr style=\"text-align: right;\">\n",
       "      <th></th>\n",
       "      <th>Constraint_Type</th>\n",
       "      <th>Product</th>\n",
       "      <th>Pharmacy</th>\n",
       "      <th>Quarter</th>\n",
       "      <th>Dual_Value</th>\n",
       "      <th>Laboratory</th>\n",
       "    </tr>\n",
       "  </thead>\n",
       "  <tbody>\n",
       "    <tr>\n",
       "      <th>176</th>\n",
       "      <td>ProductionCapacity</td>\n",
       "      <td>NaN</td>\n",
       "      <td>NaN</td>\n",
       "      <td>Q1</td>\n",
       "      <td>-0.272</td>\n",
       "      <td>Leganes_Plant</td>\n",
       "    </tr>\n",
       "    <tr>\n",
       "      <th>177</th>\n",
       "      <td>ProductionCapacity</td>\n",
       "      <td>NaN</td>\n",
       "      <td>NaN</td>\n",
       "      <td>Q2</td>\n",
       "      <td>-0.272</td>\n",
       "      <td>Leganes_Plant</td>\n",
       "    </tr>\n",
       "    <tr>\n",
       "      <th>178</th>\n",
       "      <td>ProductionCapacity</td>\n",
       "      <td>NaN</td>\n",
       "      <td>NaN</td>\n",
       "      <td>Q3</td>\n",
       "      <td>-0.272</td>\n",
       "      <td>Leganes_Plant</td>\n",
       "    </tr>\n",
       "  </tbody>\n",
       "</table>\n",
       "</div>"
      ],
      "text/plain": [
       "        Constraint_Type Product Pharmacy Quarter  Dual_Value     Laboratory\n",
       "176  ProductionCapacity     NaN      NaN      Q1      -0.272  Leganes_Plant\n",
       "177  ProductionCapacity     NaN      NaN      Q2      -0.272  Leganes_Plant\n",
       "178  ProductionCapacity     NaN      NaN      Q3      -0.272  Leganes_Plant"
      ]
     },
     "execution_count": 59,
     "metadata": {},
     "output_type": "execute_result"
    }
   ],
   "source": [
    "duals_df[duals_df['Constraint_Type'] == 'ProductionCapacity'].head(3)"
   ]
  },
  {
   "cell_type": "code",
   "execution_count": 60,
   "metadata": {},
   "outputs": [
    {
     "data": {
      "text/html": [
       "<div>\n",
       "<style scoped>\n",
       "    .dataframe tbody tr th:only-of-type {\n",
       "        vertical-align: middle;\n",
       "    }\n",
       "\n",
       "    .dataframe tbody tr th {\n",
       "        vertical-align: top;\n",
       "    }\n",
       "\n",
       "    .dataframe thead th {\n",
       "        text-align: right;\n",
       "    }\n",
       "</style>\n",
       "<table border=\"1\" class=\"dataframe\">\n",
       "  <thead>\n",
       "    <tr style=\"text-align: right;\">\n",
       "      <th></th>\n",
       "      <th>Constraint_Type</th>\n",
       "      <th>Product</th>\n",
       "      <th>Pharmacy</th>\n",
       "      <th>Quarter</th>\n",
       "      <th>Dual_Value</th>\n",
       "      <th>Laboratory</th>\n",
       "    </tr>\n",
       "  </thead>\n",
       "  <tbody>\n",
       "    <tr>\n",
       "      <th>188</th>\n",
       "      <td>StorageCapacity</td>\n",
       "      <td>NaN</td>\n",
       "      <td>Madrid_F</td>\n",
       "      <td>Q1</td>\n",
       "      <td>0.0</td>\n",
       "      <td>NaN</td>\n",
       "    </tr>\n",
       "    <tr>\n",
       "      <th>189</th>\n",
       "      <td>StorageCapacity</td>\n",
       "      <td>NaN</td>\n",
       "      <td>Madrid_F</td>\n",
       "      <td>Q2</td>\n",
       "      <td>0.0</td>\n",
       "      <td>NaN</td>\n",
       "    </tr>\n",
       "    <tr>\n",
       "      <th>190</th>\n",
       "      <td>StorageCapacity</td>\n",
       "      <td>NaN</td>\n",
       "      <td>Madrid_F</td>\n",
       "      <td>Q3</td>\n",
       "      <td>0.0</td>\n",
       "      <td>NaN</td>\n",
       "    </tr>\n",
       "  </tbody>\n",
       "</table>\n",
       "</div>"
      ],
      "text/plain": [
       "     Constraint_Type Product  Pharmacy Quarter  Dual_Value Laboratory\n",
       "188  StorageCapacity     NaN  Madrid_F      Q1         0.0        NaN\n",
       "189  StorageCapacity     NaN  Madrid_F      Q2         0.0        NaN\n",
       "190  StorageCapacity     NaN  Madrid_F      Q3         0.0        NaN"
      ]
     },
     "execution_count": 60,
     "metadata": {},
     "output_type": "execute_result"
    }
   ],
   "source": [
    "duals_df[duals_df['Constraint_Type'] == 'StorageCapacity'].head(3)"
   ]
  },
  {
   "cell_type": "code",
   "execution_count": 61,
   "metadata": {},
   "outputs": [
    {
     "data": {
      "image/png": "[encoded data removed]",
      "text/plain": [
       "<Figure size 1000x600 with 1 Axes>"
      ]
     },
     "metadata": {},
     "output_type": "display_data"
    }
   ],
   "source": [
    "import matplotlib.pyplot as plt\n",
    "\n",
    "# Create a bar plot to visualize dual values for each constraint\n",
    "# Group by constraint type and plot the dual values\n",
    "plt.figure(figsize=(10, 6))\n",
    "\n",
    "# Create a bar plot for each constraint type\n",
    "constraint_types = duals_df['Constraint_Type'].unique()\n",
    "for constraint_type in constraint_types:\n",
    "    subset = duals_df[duals_df['Constraint_Type'] == constraint_type]\n",
    "    plt.bar(subset.index, subset['Dual_Value'], label=constraint_type, alpha=0.7)\n",
    "\n",
    "plt.xlabel('Constraint Index')\n",
    "plt.ylabel('Dual Value (Shadow Price)')\n",
    "plt.title('Dual Values (Shadow Prices) of Constraints')\n",
    "plt.legend(title='Constraint Types', bbox_to_anchor=(1.05, 1), loc='upper left')\n",
    "plt.tight_layout()\n",
    "plt.show()\n",
    "\n"
   ]
  },
  {
   "cell_type": "markdown",
   "metadata": {},
   "source": [
    "From the plot we can interpret the following: \n",
    "- **Inventory Balance**. Its dual negative value trend means that if we allowed more flexibility in inventory levels the total cost would decrease. This could be better explained recurring to the mathematical formulation of our problem, taking into account that our constraint has the form: <br></br>\n",
    "<code> model.y[i, k, t] == initial_inventory + sum(model.z[i, j, k, t] for j in model.J) - model.demand[i, k, t] </code>\n",
    "    - For example, the demand of Painkiller in Valencia pharmacy in Q3 our dual value is -3.118. If the demand for Painkiller at Valencia Pharmacy in Q3 increases by one unit, the total cost would increase by 3.118, which could be reflected in a save in the cost of storage or transport. The RHS of the constraint decreases by 1 because demand is negative, and therefore the objective function would increase by 3.118 units.\n",
    "\n",
    "- **Demand Satisfaction**. The overall positive dual value trend suggests that the supply cannot fully meet the demand without increasing costs. This could indicate that: product is in high demand, or supply (production or transportation) is insufficient to meet that demand at the given cost levels, and the system is optimizing its allocation of resources. \n",
    "    - For example, for the demand for Antiviral in the Valencia pharmacy at Q4 period our dual value is 4.974. Therefore, if we increase in 1 unit the demand of antiviral in Valencia in that period the cost would increase, this is direclty associated to the production cost of our obj. function.\n",
    "\n",
    "\n",
    "- **Production Distribution**. The negative dual value for this constraint suggests that increasing the production quantity (i.e., increasing the production capacity at a specific facility) will decrease the total cost. Therefore, overproducing at a facility is not beneficial since the excess goes unused or incurs additional costs (e.g., storage cost). If we recurr to the math of the constraint: <br></br>\n",
    "<code> sum(model.z[i, j, k, t] for k in model.K) <= model.x[i, j, t] </code>\n",
    "\n",
    "    - With the results obtained we figured that Zaragoza Laboratory was completely using its maximum production capacity, therefore increasing the maximum production capacity by 1 would decrease significantly the total cost incurred.\n",
    "\n",
    "    - For example, Painkiller production at Q4 from Zaragoza laboratory is -3.860. Then, if we increase in one unit the painkiller produced at Zaragoza in that period the objective function would increase in 3.86 units, since we allow for more products to be transported.\n",
    "    \n",
    "    Moreover, check that the value doesn't vary for the different periods, e.g.:\n",
    "\n",
    "<table>\n",
    "        <thead>\n",
    "            <tr>\n",
    "                <th>Constraint</th>\n",
    "                <th>Product</th>\n",
    "                <th>Quarter</th>\n",
    "                <th>Dual Value</th>\n",
    "                <th>Facility</th>\n",
    "            </tr>\n",
    "        </thead>\n",
    "        <tbody>\n",
    "            <tr>\n",
    "                <td>ProductionDistribution</td>\n",
    "                <td>Painkiller</td>\n",
    "                <td>Q1</td>\n",
    "                <td>-3.860</td>\n",
    "                <td>Zaragoza_Plant</td>\n",
    "            </tr>\n",
    "            <tr>\n",
    "                <td>ProductionDistribution</td>\n",
    "                <td>Painkiller</td>\n",
    "                <td>Q2</td>\n",
    "                <td>-3.860</td>\n",
    "                <td>Zaragoza_Plant</td>\n",
    "            </tr>\n",
    "            <tr>\n",
    "                <td>ProductionDistribution</td>\n",
    "                <td>Painkiller</td>\n",
    "                <td>Q3</td>\n",
    "                <td>-3.860</td>\n",
    "                <td>Zaragoza_Plant</td>\n",
    "            </tr>\n",
    "            <tr>\n",
    "                <td>ProductionDistribution</td>\n",
    "                <td>Painkiller</td>\n",
    "                <td>Q4</td>\n",
    "                <td>-3.860</td>\n",
    "                <td>Zaragoza_Plant</td>\n",
    "            </tr>\n",
    "        </tbody>\n",
    "    </table>\n",
    "\n",
    "It is interesting to see that the dual values are the same for all of the quarters, given that the sum of the demand of Painkiller through all the Pharmacies is different for each of the quarters.\n",
    "\n",
    "- **Production Capacity and Storage Capacity**. A dual value of 0 (or ≈ 0) for this constraints could have specific implications (they are **not limiting**):\n",
    "    - In production capacity constraint, dual values of 0 mean that increasing the production capacity wouldn't reduce production costs or improve the model's objective. <br></br>\n",
    "    For example, at Q2 in Leganes Laboratory we have 0.0. Even if we increase by a unit the production capacity of Leganes, the total cost doesn't vary (we are not producing nor storing products although we could). Even, for those results which are different from 0, their value is so low that it could be overseen. \n",
    "\n",
    "    - In storage capacity constraint, dual values of 0 represent a lack of pressure to increase storage space (sufficient for the current amount of inventory).<br></br>\n",
    "    For example, in Sevilla pharmacy at Q4 period our dual value is 0.00, which means that there's no impact in the objective function when increasing the storage by a unit, so no direct costs are related to these parameter unless we tighten its value. \n",
    "\n",
    "In conclusion, we can say that our key constraints - the ones that are limiting and have the greatest impact on our cost - are: Inventory Balance, Demand Satisfaction and Production Distribution.\n"
   ]
  },
  {
   "cell_type": "markdown",
   "metadata": {},
   "source": [
    "--------------------"
   ]
  },
  {
   "cell_type": "markdown",
   "metadata": {},
   "source": [
    "# Problem Modification"
   ]
  },
  {
   "cell_type": "markdown",
   "metadata": {},
   "source": [
    "In order to modify the problem we recurr to conclusions based on previous result analysis, and ato give a more realistic approach. The main point is that our model does not retain any of the transported products for the following quarter. Instead, it follows a Just-in-Time production model, where all demand is met with products produced within that quarter. This approach ensures no products are saved at the end of the quarter. This is why many of our variables and constraints are focused towards encouraging the model towards keeping some level of inventory, and optimizing the transportation scenarios. \n",
    "\n",
    "What is the logic behind our modifications?\n",
    "1. **Transport Trucks and Truck Capacity**. This is the main target to solve the \"just-in-time\" problem. With the use of truck variables and constraints we can encourage minimizing transport frequency and maximizing truck load, which is essentially keeping products in the pharmacies. \n",
    "\n",
    "2. **Number of Workers and Laboratory Workers**. Including the number of workers variable allows us to capture the impact of having more workers or adjusting workforce levels based on demand fluctuations. As a consequence, we needed to include the logic that each worker has a maximum productivity (e.g., can produce 50g of product per quarter), and we must check that this capacity is not excedeed since it would be unrealistic. We include human resource management into the supply chain.\n",
    "\n",
    "3. **Start Product Production and Minimum/Maximum Run Production**. We ensure production batches meet a practical minimum size (e.g., it is not logic to produce only 1g. of a certain product). This will help us avoid inefficient runs (optimization and avoid unnecessary production costs) while still satisfying demand.\n",
    "\n",
    "4. **Start Laboratory and Production Capacity**. In some cases it may be beneficial to reduce the total cost that some laboratories don't operate, helping us avoid unnecessary production costs. And assigning a fixed cost to starting a laboratory in a quarter to reflect reality, as simply being operational incurs some costs.\n",
    "\n",
    "5. **Inventory Boxes**. We want to ensure inventory is stored in boxes of standard size (e.g., 5g units), we can transport inventory efficiently. Moreover, it doesn't make sense to just distribute inventory in very small amounts, like 1g. This also encourages the storage of inventory, since whole boxes may not be sold. \n",
    "\n",
    "After the addition of our integer and binary variables and constraints, we need to modify **objective function** which will include in addition to our main operational expenses (Production, Storage, and Transportation Costs):\n",
    "- Truck Cost: fixed cost related to the transport of products between labs and pharmacies. We aim to reach an efficient use of trucks.\n",
    "- Laboratory Costs: cost entailed in opening a laboratory in a given period.\n",
    "- Labor Costs: cost associated to hiring employees in a quarter.\n",
    "\n",
    "It is easy to see that after all this additional functionality the number of variables will increase, and therefore the same will happen with the complexity of the problem and time to reach a feasible solution. That is why we changed to **gurobi** Solver.\n",
    "\n"
   ]
  },
  {
   "cell_type": "markdown",
   "metadata": {},
   "source": [
    "--------------------"
   ]
  },
  {
   "cell_type": "markdown",
   "metadata": {},
   "source": [
    "## New Variables"
   ]
  },
  {
   "cell_type": "markdown",
   "metadata": {},
   "source": [
    "- **Transport Trucks**: Number of trucks used to transport products from one laboratory to one pharmacy in a quarter. Using a truck incurs a fixed cost. \n",
    "\n",
    "$3 * 4 * 4 = 48 \\quad variables$ \n",
    "\n",
    "$v_{ j,k,t}$\n"
   ]
  },
  {
   "cell_type": "code",
   "execution_count": 62,
   "metadata": {},
   "outputs": [],
   "source": [
    "# Integer Variable\n",
    "model.v = Var(model.J, model.K, model.T, within=NonNegativeIntegers, doc = 'Transport Trucks')"
   ]
  },
  {
   "cell_type": "markdown",
   "metadata": {},
   "source": [
    "- **Number of Workers**: Total Number of Workers need to produce products in a laboratory in a quarter. There is a cost of hiring a worker in a laboratory for a quarter.\n",
    "\n",
    "$3 * 4 = 12 \\quad variables$\n",
    "\n",
    "$w_{ j,t}$\n"
   ]
  },
  {
   "cell_type": "code",
   "execution_count": 63,
   "metadata": {},
   "outputs": [],
   "source": [
    "# Integer Variable\n",
    "model.w = Var(model.J, model.T, domain=NonNegativeIntegers, doc = 'Number of Workers')"
   ]
  },
  {
   "cell_type": "markdown",
   "metadata": {},
   "source": [
    "- **Start Product Production**: Binary Variable determining weather the production of a product starts in a laboratory in a quarter.\n",
    "\n",
    "$4*3*4 = 48 \\quad variables$\n",
    "\n",
    "$s_{ i,j,t}$\n"
   ]
  },
  {
   "cell_type": "code",
   "execution_count": 64,
   "metadata": {},
   "outputs": [],
   "source": [
    "# Binary Variable\n",
    "model.s = Var(model.I, model.J, model.T, domain=Binary, doc = 'Start Product Production')"
   ]
  },
  {
   "cell_type": "markdown",
   "metadata": {},
   "source": [
    "- **Start Laboratory**: Binary Variable indicating if a Laboratory is operative in a quarter. Starting a Laboratory incurs a fixed cost.\n",
    "\n",
    "$ 3 * 4 = 12 \\quad variables$\n",
    "\n",
    "$f_{ j,t}$\n"
   ]
  },
  {
   "cell_type": "code",
   "execution_count": 65,
   "metadata": {},
   "outputs": [],
   "source": [
    "# Binary Variable\n",
    "model.f = Var(model.J, model.T, domain=Binary, doc = 'Start Laboratory')"
   ]
  },
  {
   "cell_type": "markdown",
   "metadata": {},
   "source": [
    "---------------"
   ]
  },
  {
   "cell_type": "markdown",
   "metadata": {},
   "source": [
    "**Variables Remark**: Variables added $48 + 12 + 48 + 12 = 120$ New Variables plus 304 previous one. Makes a total of 424 variables in our problem wich makes it significantly complex"
   ]
  },
  {
   "cell_type": "markdown",
   "metadata": {},
   "source": [
    "--------------------"
   ]
  },
  {
   "cell_type": "markdown",
   "metadata": {},
   "source": [
    "## New Constraints"
   ]
  },
  {
   "cell_type": "markdown",
   "metadata": {},
   "source": [
    "* **Truck Capacity** constraint ensures that the total quantity of products being shipped in a quarter does not exceed the total capacity of the trucks available between a laboratory and a pharmacy\n",
    "\n",
    "\n",
    "    $\\sum_{i \\in I} z_{i,j,k,t} \\leq v_{j,k,t} \\times vC \\quad \\forall j, k, t$"
   ]
  },
  {
   "cell_type": "code",
   "execution_count": 66,
   "metadata": {},
   "outputs": [],
   "source": [
    "vQ = 20 # fixed cost to start a truck to add in the objective\n",
    "\n",
    "vC = 100 # truck max capacity\n",
    "\n",
    "def truck_capcity_rule(model, j, k, t):\n",
    "    return sum(model.z[i, j, k, t] for i in model.I) <= model.v[j, k, t] * vC\n",
    "\n",
    "model.TruckCapacityConstraint = Constraint(model.J, model.K, model.T, rule=truck_capcity_rule)"
   ]
  },
  {
   "cell_type": "markdown",
   "metadata": {},
   "source": [
    "* **Minimum Run Production** rule ensures that the production of any product from any laboratory during any quarter must meet or exceed a minimum batch size (set to 20).\n",
    "\n",
    "    $x_{i,j,t} \\geq \\text{minimumBatch} \\times s_{i,j,t} \\quad \\forall i, j, t$\n",
    "\n",
    "* **Maximum Run Production** rule ensures that the production of any product from any laboratory during any quarter must not exceed the maximum batch size (set to 500).\n",
    "\n",
    "    $x_{i,j,t} \\leq \\text{maximumBatch} \\times s_{i,j,t} \\quad \\forall i, j, t$\n"
   ]
  },
  {
   "cell_type": "code",
   "execution_count": 67,
   "metadata": {},
   "outputs": [],
   "source": [
    "minimumBatch = 20\n",
    "maximumBatch = 500\n",
    "\n",
    "def minimum_runProduction_rule(model, i, j, t):\n",
    "    return model.x[i, j, t] >= minimumBatch * model.s[i, j, t]\n",
    "\n",
    "def maximum_runProduction_rule(model, i, j, t):\n",
    "    return model.x[i, j, t] <= maximumBatch * model.s[i, j, t]\n",
    "\n",
    "model.MinimumBatchConstraint = Constraint(model.I, model.J, model.T, rule=minimum_runProduction_rule)\n",
    "\n",
    "model.MaximumBatchConstraint = Constraint(model.I, model.J, model.T, rule=maximum_runProduction_rule)"
   ]
  },
  {
   "cell_type": "markdown",
   "metadata": {},
   "source": [
    "* **Inventory Boxes** rule ensures that the inventory of each product must be stored in boxes of 5 units each. Creating a dummy variable $q_{i,k,t}$ to represent the number of boxes for each 5 grams of product at a pharmacy in a quarter. Added new 64 variables to the problem making it a total of 488 variables.\n",
    "\n",
    "    $y_{i,k,t} = 5 \\times q_{i,k,t} \\quad \\forall i, k, t$"
   ]
  },
  {
   "cell_type": "code",
   "execution_count": 68,
   "metadata": {},
   "outputs": [],
   "source": [
    "# Integer Variable\n",
    "model.q = Var(model.I, model.K, model.T, within=NonNegativeIntegers, doc = 'Number of Inventory Boxes (Dummy Var)') # 4 * 4 * 4 = 64 new variables\n",
    "\n",
    "def inventory_boxes_rule(model, i, k, t):\n",
    "    return model.y[i, k, t] == 5 * model.q[i, k, t]\n",
    "\n",
    "model.InventoryBoxesConstraint = Constraint(model.I, model.K, model.T, rule=inventory_boxes_rule)"
   ]
  },
  {
   "cell_type": "markdown",
   "metadata": {},
   "source": [
    "- **Production Capacity**: Limits the total production at each laboratory to its maximum production capacity for each quarter. **Additions:** Links the binary variable $f_{j,t}$ (Starts Laboratory) representing if the Laboratory is operating at a quarter, and 0 if it is not.\n",
    "\n",
    "    $\\sum_{i \\in I} x_{i,j,t} \\leq \\text{productionCapacity}_{j} \\times f_{j,t} \\quad \\forall j, t$"
   ]
  },
  {
   "cell_type": "code",
   "execution_count": 69,
   "metadata": {},
   "outputs": [],
   "source": [
    "del model.ProductionCapacityConstraint # Deleting, to modify previous constraint\n",
    "\n",
    "jC = 100 # laboratory start fixed cost to add in the objective\n",
    "\n",
    "def production_capacity_rule(model, j, t):\n",
    "    return sum(model.x[i, j, t] for i in model.I) <= model.productionCapacity[j] * model.f[j, t]\n",
    "\n",
    "model.ProductionCapacityConstraint = Constraint(model.J, model.T, rule=production_capacity_rule)\n"
   ]
  },
  {
   "cell_type": "markdown",
   "metadata": {},
   "source": [
    "- **Laboratory Workers**: Limits the total production at a laboratory to a certain level based on the new variable **number of workers**. The total amount of products manufactured at each laboratory cannot esceed the total production capacity determined by the number of workers assigned to that laboratory. A worker has a max number of products that can manufacture for a quarter (set to 50 grams).\n",
    "\n",
    "    $\\sum_{i \\in I} x_{i,j,t} \\leq \\text{max\\_production\\_per\\_w} \\times w_{j,t} \\quad \\forall j, t$"
   ]
  },
  {
   "cell_type": "code",
   "execution_count": 70,
   "metadata": {},
   "outputs": [],
   "source": [
    "max_production_per_w = 50\n",
    "wC = 20 # Cost of hiring a worker for a quarter to add in the objective\n",
    "\n",
    "def laboratory_workers_rule(model, j, t):\n",
    "    return sum(model.x[i, j, t] for i in model.I) <= max_production_per_w * model.w[j, t]\n",
    "\n",
    "model.LaboratoryWorkersConstraint = Constraint(model.J, model.T, rule=laboratory_workers_rule)"
   ]
  },
  {
   "cell_type": "markdown",
   "metadata": {},
   "source": [
    "--------------------"
   ]
  },
  {
   "cell_type": "markdown",
   "metadata": {},
   "source": [
    "## New Objective Function\n",
    "\n",
    "**Minimize** total costs associated with:\n",
    "- Production\n",
    "- Storage (inventory holding)\n",
    "- Transportation (shipping I to K)\n",
    "- Trucks used fixed costs\n",
    "- Laboratory start fixed costs\n",
    "- Labor Cost (cost of hiring a worker)"
   ]
  },
  {
   "cell_type": "markdown",
   "metadata": {},
   "source": [
    "$min(\\sum_{i,j,t} c_{i,j} x_{i,j,t} + \n",
    "\\sum_{i,k,t} sC_k y_{i,k,t} + \n",
    "\\sum_{i,j,k,t} t_{i,j,k} z_{i,j,k,t} + \n",
    "\\sum_{j,k,t} v_{j,k,t} vC + \n",
    "\\sum_{j,t} (jC f_{j,t} + wC w_{j,t}))$"
   ]
  },
  {
   "cell_type": "code",
   "execution_count": 71,
   "metadata": {},
   "outputs": [],
   "source": [
    "del model.totalCost # delete the previous objective to modify the new one"
   ]
  },
  {
   "cell_type": "code",
   "execution_count": 72,
   "metadata": {},
   "outputs": [],
   "source": [
    "# Define the objective function\n",
    "def total_cost_rule(model):\n",
    "    production_cost = sum(model.c[i, j] * model.x[i, j, t] for i in model.I for j in model.J for t in model.T)\n",
    "    \n",
    "    storage_cost = sum(model.sC[k] * model.y[i, k, t] for i in model.I for k in model.K for t in model.T)\n",
    "\n",
    "    transportation_cost = sum(model.t[i, j, k] * model.z[i, j, k, t] for i in model.I for j in model.J for k in model.K for t in model.T)\n",
    "    \n",
    "    truck_fixed_cost = sum(model.v[j, k, t] * vC for j in model.J for k in model.K for t in model.T)\n",
    "\n",
    "    opening_lobaratory_fixed_cost = sum(jC * model.f[j, t] for j in model.J for t in model.T)\n",
    "\n",
    "    labor_cost = sum(wC * model.w[j, t] for j in model.J for t in model.T)\n",
    "\n",
    "    total_cost = production_cost + storage_cost + transportation_cost + truck_fixed_cost + opening_lobaratory_fixed_cost + labor_cost\n",
    "\n",
    "    return total_cost\n",
    "\n",
    "# Add the objective function to the model\n",
    "model.totalCost = Objective(rule=total_cost_rule, sense=minimize)"
   ]
  },
  {
   "cell_type": "code",
   "execution_count": 73,
   "metadata": {},
   "outputs": [],
   "source": [
    "del model.dual"
   ]
  },
  {
   "cell_type": "code",
   "execution_count": 74,
   "metadata": {},
   "outputs": [
    {
     "data": {
      "text/plain": [
       "{'Problem': [{'Name': 'x1', 'Lower bound': 43960.752, 'Upper bound': 43960.752, 'Number of objectives': 1, 'Number of constraints': 424, 'Number of variables': 488, 'Number of binary variables': 60, 'Number of integer variables': 184, 'Number of continuous variables': 304, 'Number of nonzeros': 1528, 'Sense': 'minimize'}], 'Solver': [{'Status': 'ok', 'Return code': '0', 'Message': 'Model was solved to optimality (subject to tolerances), and an optimal solution is available.', 'Termination condition': 'optimal', 'Termination message': 'Model was solved to optimality (subject to tolerances), and an optimal solution is available.', 'Wall time': '3.2330000400543213', 'Error rc': 0, 'Time': 3.5308430194854736}], 'Solution': [OrderedDict([('number of solutions', 0), ('number of solutions displayed', 0)])]}"
      ]
     },
     "execution_count": 74,
     "metadata": {},
     "output_type": "execute_result"
    }
   ],
   "source": [
    "# Solver\n",
    "solver = pyomo.opt.SolverFactory('gurobi')\n",
    "solver.solve(model)"
   ]
  },
  {
   "cell_type": "markdown",
   "metadata": {},
   "source": [
    "#### Optimal Total Cost Solution"
   ]
  },
  {
   "cell_type": "code",
   "execution_count": 75,
   "metadata": {},
   "outputs": [
    {
     "data": {
      "text/plain": [
       "43960.75200000001"
      ]
     },
     "execution_count": 75,
     "metadata": {},
     "output_type": "execute_result"
    }
   ],
   "source": [
    "model.totalCost()"
   ]
  },
  {
   "cell_type": "markdown",
   "metadata": {},
   "source": [
    "The **optimal total cost** for the new problem is now 43960.752 increasing in comparison by 12911.608 throught the new added costs and constraints"
   ]
  },
  {
   "cell_type": "code",
   "execution_count": null,
   "metadata": {},
   "outputs": [
    {
     "name": "stdout",
     "output_type": "stream",
     "text": [
      "Model unknown\n",
      "\n",
      "  Variables:\n",
      "    x : Production Quantities(g)\n",
      "        Size=48, Index=I*J*T\n",
      "        Key                                    : Lower : Value : Upper : Fixed : Stale : Domain\n",
      "         ('Antibiotic', 'Leganes_Plant', 'Q1') :     0 :  27.0 :  None : False : False : NonNegativeReals\n",
      "         ('Antibiotic', 'Leganes_Plant', 'Q2') :     0 :   0.0 :  None : False : False : NonNegativeReals\n",
      "         ('Antibiotic', 'Leganes_Plant', 'Q3') :     0 :  38.0 :  None : False : False : NonNegativeReals\n",
      "         ('Antibiotic', 'Leganes_Plant', 'Q4') :     0 :  36.0 :  None : False : False : NonNegativeReals\n"
     ]
    }
   ],
   "source": [
    "# Redirect model display output to a buffer, to just show a preview of model\n",
    "buffer = StringIO()\n",
    "model.display(ostream=buffer)\n",
    "output = buffer.getvalue()\n",
    "buffer.close()\n",
    "\n",
    "print(\"\\n\".join(output.splitlines()[:10]))"
   ]
  },
  {
   "cell_type": "code",
   "execution_count": 78,
   "metadata": {},
   "outputs": [],
   "source": [
    "production_data = []\n",
    "for i in model.I:\n",
    "    for j in model.J:\n",
    "        for t in model.T:\n",
    "            production_data.append({\n",
    "                'product': i,\n",
    "                'Laboratory': j,\n",
    "                'Quarter': t,\n",
    "                'Quantity_Produced': model.x[i, j, t].value\n",
    "            })\n",
    "production_quantities_df = pd.DataFrame(production_data)\n",
    "\n",
    "### 2. Inventory Levels y[i,k,t]:\n",
    "inventory_data = []\n",
    "for i in model.I:\n",
    "    for k in model.K:\n",
    "        for t in model.T:\n",
    "            inventory_data.append({\n",
    "                'product': i,\n",
    "                'Pharmacy': k,\n",
    "                'Quarter': t,\n",
    "                'Inventory': model.y[i, k, t].value\n",
    "            })\n",
    "inventory_df = pd.DataFrame(inventory_data)\n",
    "\n",
    "## 3. Transportation Quantities z[i,j,k,t]:\n",
    "transportation_data = []\n",
    "for i in model.I:\n",
    "    for j in model.J:\n",
    "        for k in model.K:\n",
    "            for t in model.T:\n",
    "                transportation_data.append({\n",
    "                    'product': i,\n",
    "                    'Laboratory': j,\n",
    "                    'Pharmacy': k,\n",
    "                    'Quarter': t,\n",
    "                    'Transported_Quantity': model.z[i, j, k, t].value\n",
    "                })\n",
    "transportation_df = pd.DataFrame(transportation_data)\n",
    "\n",
    "## 4. Number of Trucks v[j,k,t]:\n",
    "trucks_data = []\n",
    "for j in model.J:\n",
    "    for k in model.K:\n",
    "        for t in model.T:\n",
    "            trucks_data.append({\n",
    "                'Laboratory': j,\n",
    "                'Pharmacy': k,\n",
    "                'Quarter': t,\n",
    "                'Trucks_Needed': model.v[j, k, t].value\n",
    "            })\n",
    "trucks_df = pd.DataFrame(trucks_data)\n",
    "\n",
    "## 5. Number of Workers w[j,t]:\n",
    "workers_data = []\n",
    "for j in model.J:\n",
    "    for t in model.T:\n",
    "        workers_data.append({\n",
    "            'Laboratory': j,\n",
    "            'Quarter': t,\n",
    "            'Workers_Needed': model.w[j, t].value\n",
    "        })\n",
    "workers_df = pd.DataFrame(workers_data)\n",
    "\n",
    "## 6. Start Laboratory f[j,t]:\n",
    "laboratory_data = []\n",
    "for j in model.J:\n",
    "    for t in model.T:\n",
    "        laboratory_data.append({\n",
    "            'Laboratory': j,\n",
    "            'Quarter': t,\n",
    "            'Open_Closed': model.f[j, t].value\n",
    "        })\n",
    "laboratory_df = pd.DataFrame(laboratory_data)"
   ]
  },
  {
   "cell_type": "markdown",
   "metadata": {},
   "source": [
    "## Result Analysis"
   ]
  },
  {
   "cell_type": "markdown",
   "metadata": {},
   "source": [
    "#### Production Quantities"
   ]
  },
  {
   "cell_type": "code",
   "execution_count": 79,
   "metadata": {},
   "outputs": [
    {
     "data": {
      "text/html": [
       "<div>\n",
       "<style scoped>\n",
       "    .dataframe tbody tr th:only-of-type {\n",
       "        vertical-align: middle;\n",
       "    }\n",
       "\n",
       "    .dataframe tbody tr th {\n",
       "        vertical-align: top;\n",
       "    }\n",
       "\n",
       "    .dataframe thead th {\n",
       "        text-align: right;\n",
       "    }\n",
       "</style>\n",
       "<table border=\"1\" class=\"dataframe\">\n",
       "  <thead>\n",
       "    <tr style=\"text-align: right;\">\n",
       "      <th></th>\n",
       "      <th>product</th>\n",
       "      <th>Laboratory</th>\n",
       "      <th>Quantity_Produced</th>\n",
       "    </tr>\n",
       "  </thead>\n",
       "  <tbody>\n",
       "    <tr>\n",
       "      <th>0</th>\n",
       "      <td>Antibiotic</td>\n",
       "      <td>Leganes_Plant</td>\n",
       "      <td>101.0</td>\n",
       "    </tr>\n",
       "    <tr>\n",
       "      <th>1</th>\n",
       "      <td>Antibiotic</td>\n",
       "      <td>Malaga_Plant</td>\n",
       "      <td>1385.0</td>\n",
       "    </tr>\n",
       "    <tr>\n",
       "      <th>...</th>\n",
       "      <td>...</td>\n",
       "      <td>...</td>\n",
       "      <td>...</td>\n",
       "    </tr>\n",
       "    <tr>\n",
       "      <th>10</th>\n",
       "      <td>Vaccine</td>\n",
       "      <td>Malaga_Plant</td>\n",
       "      <td>1434.0</td>\n",
       "    </tr>\n",
       "    <tr>\n",
       "      <th>11</th>\n",
       "      <td>Vaccine</td>\n",
       "      <td>Zaragoza_Plant</td>\n",
       "      <td>489.0</td>\n",
       "    </tr>\n",
       "  </tbody>\n",
       "</table>\n",
       "<p>12 rows × 3 columns</p>\n",
       "</div>"
      ],
      "text/plain": [
       "       product      Laboratory  Quantity_Produced\n",
       "0   Antibiotic   Leganes_Plant              101.0\n",
       "1   Antibiotic    Malaga_Plant             1385.0\n",
       "..         ...             ...                ...\n",
       "10     Vaccine    Malaga_Plant             1434.0\n",
       "11     Vaccine  Zaragoza_Plant              489.0\n",
       "\n",
       "[12 rows x 3 columns]"
      ]
     },
     "execution_count": 79,
     "metadata": {},
     "output_type": "execute_result"
    }
   ],
   "source": [
    "production_quantities_df.groupby(['product', 'Laboratory'])['Quantity_Produced'].sum().reset_index() # aggregate quarters"
   ]
  },
  {
   "cell_type": "code",
   "execution_count": 80,
   "metadata": {},
   "outputs": [
    {
     "data": {
      "text/html": [
       "<div>\n",
       "<style scoped>\n",
       "    .dataframe tbody tr th:only-of-type {\n",
       "        vertical-align: middle;\n",
       "    }\n",
       "\n",
       "    .dataframe tbody tr th {\n",
       "        vertical-align: top;\n",
       "    }\n",
       "\n",
       "    .dataframe thead th {\n",
       "        text-align: right;\n",
       "    }\n",
       "</style>\n",
       "<table border=\"1\" class=\"dataframe\">\n",
       "  <thead>\n",
       "    <tr style=\"text-align: right;\">\n",
       "      <th></th>\n",
       "      <th>Laboratory</th>\n",
       "      <th>Quantity_Produced</th>\n",
       "    </tr>\n",
       "  </thead>\n",
       "  <tbody>\n",
       "    <tr>\n",
       "      <th>0</th>\n",
       "      <td>Leganes_Plant</td>\n",
       "      <td>2381.0</td>\n",
       "    </tr>\n",
       "    <tr>\n",
       "      <th>1</th>\n",
       "      <td>Malaga_Plant</td>\n",
       "      <td>3928.0</td>\n",
       "    </tr>\n",
       "    <tr>\n",
       "      <th>2</th>\n",
       "      <td>Zaragoza_Plant</td>\n",
       "      <td>1683.0</td>\n",
       "    </tr>\n",
       "  </tbody>\n",
       "</table>\n",
       "</div>"
      ],
      "text/plain": [
       "       Laboratory  Quantity_Produced\n",
       "0   Leganes_Plant             2381.0\n",
       "1    Malaga_Plant             3928.0\n",
       "2  Zaragoza_Plant             1683.0"
      ]
     },
     "execution_count": 80,
     "metadata": {},
     "output_type": "execute_result"
    }
   ],
   "source": [
    "production_quantities_df.groupby(['Laboratory'])['Quantity_Produced'].sum().reset_index() # aggregate quarters and products"
   ]
  },
  {
   "cell_type": "markdown",
   "metadata": {},
   "source": [
    "* Thorugh the same analysis by aggregating data by quarters and then by products, we achieve a comprehensive view of production and distribution across the year.\n",
    "\n",
    "* This results are a big improvement. For instance: No laboratory is operating at maximum production capacity, and product quantities are now more evenly distributed across laboratories throughout the year, a step toward a more realistic solution.\n",
    "\n",
    "* With minimum and maximum batch constraints, inefficient production (e.g., small, wasteful batches like 7 units) has been eliminated. Production now only starts for batches of 20 units or more, enhancing cost efficiency and optimizing operations.\n",
    "\n",
    "* Similar patterns show, with Leganés remaining the primary distributor of painkillers and Malaga leading in antibiotic production, owing to their lower costs for these products. And Malaga is the highest distributor, thanks to its high production capacity.\n",
    "\n",
    "* The addition of binary variables to control production start, batches, and related constraints yields results that are both more realistic and operationally sound. While the total cost objective has increased slightly, the solution is more logical and closely aligned with real-world logistics and efficiencies."
   ]
  },
  {
   "cell_type": "markdown",
   "metadata": {},
   "source": [
    "#### Inventory Quantity"
   ]
  },
  {
   "cell_type": "code",
   "execution_count": 81,
   "metadata": {},
   "outputs": [
    {
     "data": {
      "text/plain": [
       "np.float64(310.0)"
      ]
     },
     "execution_count": 81,
     "metadata": {},
     "output_type": "execute_result"
    }
   ],
   "source": [
    "inventory_df['Inventory'].sum() # sum all inventory balances"
   ]
  },
  {
   "cell_type": "code",
   "execution_count": 82,
   "metadata": {},
   "outputs": [
    {
     "data": {
      "text/html": [
       "<div>\n",
       "<style scoped>\n",
       "    .dataframe tbody tr th:only-of-type {\n",
       "        vertical-align: middle;\n",
       "    }\n",
       "\n",
       "    .dataframe tbody tr th {\n",
       "        vertical-align: top;\n",
       "    }\n",
       "\n",
       "    .dataframe thead th {\n",
       "        text-align: right;\n",
       "    }\n",
       "</style>\n",
       "<table border=\"1\" class=\"dataframe\">\n",
       "  <thead>\n",
       "    <tr style=\"text-align: right;\">\n",
       "      <th></th>\n",
       "      <th>Pharmacy</th>\n",
       "      <th>Inventory</th>\n",
       "    </tr>\n",
       "  </thead>\n",
       "  <tbody>\n",
       "    <tr>\n",
       "      <th>0</th>\n",
       "      <td>Barcelona_F</td>\n",
       "      <td>220.0</td>\n",
       "    </tr>\n",
       "    <tr>\n",
       "      <th>1</th>\n",
       "      <td>Madrid_F</td>\n",
       "      <td>10.0</td>\n",
       "    </tr>\n",
       "    <tr>\n",
       "      <th>2</th>\n",
       "      <td>Sevilla_F</td>\n",
       "      <td>25.0</td>\n",
       "    </tr>\n",
       "    <tr>\n",
       "      <th>3</th>\n",
       "      <td>Valencia_F</td>\n",
       "      <td>55.0</td>\n",
       "    </tr>\n",
       "  </tbody>\n",
       "</table>\n",
       "</div>"
      ],
      "text/plain": [
       "      Pharmacy  Inventory\n",
       "0  Barcelona_F      220.0\n",
       "1     Madrid_F       10.0\n",
       "2    Sevilla_F       25.0\n",
       "3   Valencia_F       55.0"
      ]
     },
     "execution_count": 82,
     "metadata": {},
     "output_type": "execute_result"
    }
   ],
   "source": [
    "inventory_df.groupby(['Pharmacy'])['Inventory'].sum().reset_index() # aggregate quarters"
   ]
  },
  {
   "cell_type": "markdown",
   "metadata": {},
   "source": [
    "* Another Great Results Improvement. The model no longer follows a strict Just-In-Time approach; it now recognizes that, in some cases, storing inventory at the pharmacy for one quarter is more cost-effective. When transportation costs are lower, pharmacies can partially fulfill the next quarter’s demand by storing inventory, optimizing long-term costs despite some storage expenses.\n",
    "\n",
    "* The addition of truck variable with trucks capacity, fixed-cost and its constraints constraints has been impactful. Trucks have a maximum capacity, and each truck request incurs a fixed cost, leading to more efficient inventory decisions. For example, if a pharmacy requires 90 products from Leganés in Q1 and anticipates needing more in Q2, it’s more cost-effective to request 100 products (filling the truck) rather than incurring extra transportation costs in the next quarter. Where this can sometimes reduce the number of trucks needed.\n",
    "\n",
    "* Note that Inventory is now stored in multiples of 5 due to a new constraint that requires products to be stored in boxes of 5 grams, ensuring no single items are stored. This addition makes the model more realistic by reflecting typical storage practices and results in more consistent and practical outcomes."
   ]
  },
  {
   "cell_type": "markdown",
   "metadata": {},
   "source": [
    "#### Transportation Quantity"
   ]
  },
  {
   "cell_type": "code",
   "execution_count": 83,
   "metadata": {},
   "outputs": [
    {
     "data": {
      "text/html": [
       "<div>\n",
       "<style scoped>\n",
       "    .dataframe tbody tr th:only-of-type {\n",
       "        vertical-align: middle;\n",
       "    }\n",
       "\n",
       "    .dataframe tbody tr th {\n",
       "        vertical-align: top;\n",
       "    }\n",
       "\n",
       "    .dataframe thead th {\n",
       "        text-align: right;\n",
       "    }\n",
       "</style>\n",
       "<table border=\"1\" class=\"dataframe\">\n",
       "  <thead>\n",
       "    <tr style=\"text-align: right;\">\n",
       "      <th></th>\n",
       "      <th>Laboratory</th>\n",
       "      <th>Pharmacy</th>\n",
       "      <th>Transported_Quantity</th>\n",
       "    </tr>\n",
       "  </thead>\n",
       "  <tbody>\n",
       "    <tr>\n",
       "      <th>0</th>\n",
       "      <td>Leganes_Plant</td>\n",
       "      <td>Barcelona_F</td>\n",
       "      <td>496.0</td>\n",
       "    </tr>\n",
       "    <tr>\n",
       "      <th>1</th>\n",
       "      <td>Leganes_Plant</td>\n",
       "      <td>Madrid_F</td>\n",
       "      <td>989.0</td>\n",
       "    </tr>\n",
       "    <tr>\n",
       "      <th>...</th>\n",
       "      <td>...</td>\n",
       "      <td>...</td>\n",
       "      <td>...</td>\n",
       "    </tr>\n",
       "    <tr>\n",
       "      <th>10</th>\n",
       "      <td>Zaragoza_Plant</td>\n",
       "      <td>Sevilla_F</td>\n",
       "      <td>0.0</td>\n",
       "    </tr>\n",
       "    <tr>\n",
       "      <th>11</th>\n",
       "      <td>Zaragoza_Plant</td>\n",
       "      <td>Valencia_F</td>\n",
       "      <td>186.0</td>\n",
       "    </tr>\n",
       "  </tbody>\n",
       "</table>\n",
       "<p>12 rows × 3 columns</p>\n",
       "</div>"
      ],
      "text/plain": [
       "        Laboratory     Pharmacy  Transported_Quantity\n",
       "0    Leganes_Plant  Barcelona_F                 496.0\n",
       "1    Leganes_Plant     Madrid_F                 989.0\n",
       "..             ...          ...                   ...\n",
       "10  Zaragoza_Plant    Sevilla_F                   0.0\n",
       "11  Zaragoza_Plant   Valencia_F                 186.0\n",
       "\n",
       "[12 rows x 3 columns]"
      ]
     },
     "execution_count": 83,
     "metadata": {},
     "output_type": "execute_result"
    }
   ],
   "source": [
    "transportation_df.groupby(['Laboratory', 'Pharmacy'])['Transported_Quantity'].sum().reset_index() # aggregate quarters"
   ]
  },
  {
   "cell_type": "markdown",
   "metadata": {},
   "source": [
    "* The interconnections between laboratories and pharmacies, as well as transportation quantities, remain similar to previous results.Distribution is slightly more spread out, yet the primary pattern holds: higher transportation quantities still occur between closer cities. Furhtermore, extreme cases remain unchanged, such as the impracticality of transporting from Malaga to Barcelona due to high distance."
   ]
  },
  {
   "cell_type": "markdown",
   "metadata": {},
   "source": [
    "#### Number of Trucks"
   ]
  },
  {
   "cell_type": "code",
   "execution_count": 84,
   "metadata": {},
   "outputs": [
    {
     "data": {
      "text/html": [
       "<div>\n",
       "<style scoped>\n",
       "    .dataframe tbody tr th:only-of-type {\n",
       "        vertical-align: middle;\n",
       "    }\n",
       "\n",
       "    .dataframe tbody tr th {\n",
       "        vertical-align: top;\n",
       "    }\n",
       "\n",
       "    .dataframe thead th {\n",
       "        text-align: right;\n",
       "    }\n",
       "</style>\n",
       "<table border=\"1\" class=\"dataframe\">\n",
       "  <thead>\n",
       "    <tr style=\"text-align: right;\">\n",
       "      <th></th>\n",
       "      <th>Laboratory</th>\n",
       "      <th>Pharmacy</th>\n",
       "      <th>Trucks_Needed</th>\n",
       "    </tr>\n",
       "  </thead>\n",
       "  <tbody>\n",
       "    <tr>\n",
       "      <th>0</th>\n",
       "      <td>Leganes_Plant</td>\n",
       "      <td>Barcelona_F</td>\n",
       "      <td>5.0</td>\n",
       "    </tr>\n",
       "    <tr>\n",
       "      <th>1</th>\n",
       "      <td>Leganes_Plant</td>\n",
       "      <td>Madrid_F</td>\n",
       "      <td>10.0</td>\n",
       "    </tr>\n",
       "    <tr>\n",
       "      <th>...</th>\n",
       "      <td>...</td>\n",
       "      <td>...</td>\n",
       "      <td>...</td>\n",
       "    </tr>\n",
       "    <tr>\n",
       "      <th>10</th>\n",
       "      <td>Zaragoza_Plant</td>\n",
       "      <td>Sevilla_F</td>\n",
       "      <td>0.0</td>\n",
       "    </tr>\n",
       "    <tr>\n",
       "      <th>11</th>\n",
       "      <td>Zaragoza_Plant</td>\n",
       "      <td>Valencia_F</td>\n",
       "      <td>2.0</td>\n",
       "    </tr>\n",
       "  </tbody>\n",
       "</table>\n",
       "<p>12 rows × 3 columns</p>\n",
       "</div>"
      ],
      "text/plain": [
       "        Laboratory     Pharmacy  Trucks_Needed\n",
       "0    Leganes_Plant  Barcelona_F            5.0\n",
       "1    Leganes_Plant     Madrid_F           10.0\n",
       "..             ...          ...            ...\n",
       "10  Zaragoza_Plant    Sevilla_F            0.0\n",
       "11  Zaragoza_Plant   Valencia_F            2.0\n",
       "\n",
       "[12 rows x 3 columns]"
      ]
     },
     "execution_count": 84,
     "metadata": {},
     "output_type": "execute_result"
    }
   ],
   "source": [
    "trucks_df.groupby(['Laboratory', 'Pharmacy'])['Trucks_Needed'].sum().reset_index() # aggregate quarters"
   ]
  },
  {
   "cell_type": "markdown",
   "metadata": {},
   "source": [
    "* This results show the total number of trucks needed to transport products from a laboratory to a pharmacy. Completely correlated with the transportation quantities data, showing the interconnections between cities and laboratories, and the total product volumes transported on a different scale.\n",
    "\n",
    "* It is interesting to see that the minimum number of trucks needed in a year from a laboratory to a pharmacy it is two. This suggests that even for low-demand routes, there is a need for multiple shipments, possibly due to batch sizes or periodic demand fluctuations, ensuring steady supply. Being a more realistic problem with the new added variable and constraints."
   ]
  },
  {
   "cell_type": "markdown",
   "metadata": {},
   "source": [
    "#### Number of Workers"
   ]
  },
  {
   "cell_type": "code",
   "execution_count": 85,
   "metadata": {},
   "outputs": [
    {
     "data": {
      "text/html": [
       "<div>\n",
       "<style scoped>\n",
       "    .dataframe tbody tr th:only-of-type {\n",
       "        vertical-align: middle;\n",
       "    }\n",
       "\n",
       "    .dataframe tbody tr th {\n",
       "        vertical-align: top;\n",
       "    }\n",
       "\n",
       "    .dataframe thead th {\n",
       "        text-align: right;\n",
       "    }\n",
       "</style>\n",
       "<table border=\"1\" class=\"dataframe\">\n",
       "  <thead>\n",
       "    <tr style=\"text-align: right;\">\n",
       "      <th></th>\n",
       "      <th>Laboratory</th>\n",
       "      <th>Workers_Needed</th>\n",
       "    </tr>\n",
       "  </thead>\n",
       "  <tbody>\n",
       "    <tr>\n",
       "      <th>0</th>\n",
       "      <td>Leganes_Plant</td>\n",
       "      <td>48.0</td>\n",
       "    </tr>\n",
       "    <tr>\n",
       "      <th>1</th>\n",
       "      <td>Malaga_Plant</td>\n",
       "      <td>79.0</td>\n",
       "    </tr>\n",
       "    <tr>\n",
       "      <th>2</th>\n",
       "      <td>Zaragoza_Plant</td>\n",
       "      <td>34.0</td>\n",
       "    </tr>\n",
       "  </tbody>\n",
       "</table>\n",
       "</div>"
      ],
      "text/plain": [
       "       Laboratory  Workers_Needed\n",
       "0   Leganes_Plant            48.0\n",
       "1    Malaga_Plant            79.0\n",
       "2  Zaragoza_Plant            34.0"
      ]
     },
     "execution_count": 85,
     "metadata": {},
     "output_type": "execute_result"
    }
   ],
   "source": [
    "workers_df.groupby(['Laboratory'])['Workers_Needed'].sum().reset_index() # aggregate quarters"
   ]
  },
  {
   "cell_type": "markdown",
   "metadata": {},
   "source": [
    "* This analysis reveals the total number of workers required at each laboratory throughout the year, directly correlated with production quantities, as each worker has a maximum production capacity.\n",
    "\n",
    "* Note that hiring a worker for a quarter incurs a cost, which is likely one of the key reasons explaining why Malaga has not hired additional workers to reach maximum production capacity, as it did in the previous problem with max production capacity. Instead, it appears more efficient to produce certain products at other locations with lower costs, making better use of available labor capacity and optimizing for transportation efficiencies with trucks.\n",
    "\n",
    "* This approach provides a more realistic and cost-effective solution by distributing production in a way that maximizes labor and transport resources, yielding deeper insights into operational efficiency.\n"
   ]
  },
  {
   "cell_type": "markdown",
   "metadata": {},
   "source": [
    "#### Laboratories"
   ]
  },
  {
   "cell_type": "code",
   "execution_count": 86,
   "metadata": {},
   "outputs": [
    {
     "data": {
      "text/plain": [
       "np.True_"
      ]
     },
     "execution_count": 86,
     "metadata": {},
     "output_type": "execute_result"
    }
   ],
   "source": [
    "(laboratory_df['Open_Closed'] == 1).all().all() # check that all laboratories are open"
   ]
  },
  {
   "cell_type": "markdown",
   "metadata": {},
   "source": [
    "* By ensuring that all laboratories are open throughout all quarters, the model shows a fixed cost that is calculated as the laboratory's fixed cost multiplied by the number of laboratories and quarters. Having a starting point of the fixed costs in the objective of 100 * 4 * 3 = 1200"
   ]
  }
 ],
 "metadata": {
  "kernelspec": {
   "display_name": "myenv",
   "language": "python",
   "name": "python3"
  },
  "language_info": {
   "codemirror_mode": {
    "name": "ipython",
    "version": 3
   },
   "file_extension": ".py",
   "mimetype": "text/x-python",
   "name": "python",
   "nbconvert_exporter": "python",
   "pygments_lexer": "ipython3",
   "version": "3.10.15"
  }
 },
 "nbformat": 4,
 "nbformat_minor": 2
}
